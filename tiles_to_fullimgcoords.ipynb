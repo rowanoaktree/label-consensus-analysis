{
 "cells": [
  {
   "cell_type": "code",
   "execution_count": 3,
   "metadata": {},
   "outputs": [],
   "source": [
    "import pandas as pd\n",
    "import os"
   ]
  },
  {
   "cell_type": "code",
   "execution_count": 17,
   "metadata": {},
   "outputs": [
    {
     "name": "stdout",
     "output_type": "stream",
     "text": [
      "2175\n",
      "12\n"
     ]
    }
   ],
   "source": [
    "#Import data\n",
    "\n",
    "ref_dgc = \"/Users/rowanconverse/Library/CloudStorage/OneDrive-UniversityofNewMexico/Dissertation/1_Chapter/consensus/data/crowdsourced/20230307_zooniverseconsensuslabels.csv\"\n",
    "with open(ref_dgc) as f:\n",
    "  ref_zoo = pd.read_csv(f)\n",
    "#Add a column specifying the base image file\n",
    "ref_zoo[\"basefile\"] = [x[:-10] for x in ref_zoo['filename']]\n",
    "\n",
    "#Directory of original filenames for expert labeled images-- currently only found 1, need to match the other 11 tomorrow\n",
    "imgpath = r\"/Users/rowanconverse/Library/CloudStorage/OneDrive-UniversityofNewMexico/CV4Ecology/Prototyping/Data/Imagery/USFWS/raw\"\n",
    "imglist = os.listdir(imgpath)\n",
    "imglist = [s.strip('.JPG') for s in imglist]\n",
    "\n",
    "#filter the refined labels to only those that match the expert list\n",
    "tiled_df = ref_zoo[ref_zoo[\"basefile\"].isin(imglist)]\n",
    "print(len(tiled_df))\n",
    "print(len(tiled_df[\"basefile\"].unique()))\n",
    "\n",
    "#complete_df = pd.read_excel('complete_spreadsheet.xlsx')"
   ]
  },
  {
   "cell_type": "code",
   "execution_count": 18,
   "metadata": {},
   "outputs": [
    {
     "name": "stderr",
     "output_type": "stream",
     "text": [
      "/var/folders/21/q9_tvtjj53n6mfprd_174cz00000gn/T/ipykernel_9089/2048250261.py:1: FutureWarning: The default value of regex will change from True to False in a future version.\n",
      "  tiled_df['filename'] = tiled_df['filename'].str.replace('.png', '')\n",
      "/var/folders/21/q9_tvtjj53n6mfprd_174cz00000gn/T/ipykernel_9089/2048250261.py:1: SettingWithCopyWarning: \n",
      "A value is trying to be set on a copy of a slice from a DataFrame.\n",
      "Try using .loc[row_indexer,col_indexer] = value instead\n",
      "\n",
      "See the caveats in the documentation: https://pandas.pydata.org/pandas-docs/stable/user_guide/indexing.html#returning-a-view-versus-a-copy\n",
      "  tiled_df['filename'] = tiled_df['filename'].str.replace('.png', '')\n"
     ]
    },
    {
     "data": {
      "text/html": [
       "<div>\n",
       "<style scoped>\n",
       "    .dataframe tbody tr th:only-of-type {\n",
       "        vertical-align: middle;\n",
       "    }\n",
       "\n",
       "    .dataframe tbody tr th {\n",
       "        vertical-align: top;\n",
       "    }\n",
       "\n",
       "    .dataframe thead th {\n",
       "        text-align: right;\n",
       "    }\n",
       "</style>\n",
       "<table border=\"1\" class=\"dataframe\">\n",
       "  <thead>\n",
       "    <tr style=\"text-align: right;\">\n",
       "      <th></th>\n",
       "      <th>Unnamed: 0</th>\n",
       "      <th>filename</th>\n",
       "      <th>category_id</th>\n",
       "      <th>bbox</th>\n",
       "      <th>category</th>\n",
       "      <th>basefile</th>\n",
       "    </tr>\n",
       "  </thead>\n",
       "  <tbody>\n",
       "    <tr>\n",
       "      <th>27970</th>\n",
       "      <td>34027</td>\n",
       "      <td>BDA_12C_20181127_1_01_05</td>\n",
       "      <td>1</td>\n",
       "      <td>[553.5484619140625, 232.234375, 63.0, 131.0]</td>\n",
       "      <td>Crane</td>\n",
       "      <td>BDA_12C_20181127_1</td>\n",
       "    </tr>\n",
       "    <tr>\n",
       "      <th>27971</th>\n",
       "      <td>34029</td>\n",
       "      <td>BDA_12C_20181127_1_04_06</td>\n",
       "      <td>2</td>\n",
       "      <td>[304.40625, 213.43751525878906, 70.96672058105...</td>\n",
       "      <td>Goose</td>\n",
       "      <td>BDA_12C_20181127_1</td>\n",
       "    </tr>\n",
       "    <tr>\n",
       "      <th>27972</th>\n",
       "      <td>34030</td>\n",
       "      <td>BDA_12C_20181127_1_04_06</td>\n",
       "      <td>2</td>\n",
       "      <td>[207.2039031982422, 318.0, 81.60002899169922, ...</td>\n",
       "      <td>Goose</td>\n",
       "      <td>BDA_12C_20181127_1</td>\n",
       "    </tr>\n",
       "    <tr>\n",
       "      <th>27973</th>\n",
       "      <td>34031</td>\n",
       "      <td>BDA_12C_20181127_1_04_06</td>\n",
       "      <td>2</td>\n",
       "      <td>[182.22291564941406, 356.73333740234375, 42.80...</td>\n",
       "      <td>Goose</td>\n",
       "      <td>BDA_12C_20181127_1</td>\n",
       "    </tr>\n",
       "    <tr>\n",
       "      <th>27974</th>\n",
       "      <td>34032</td>\n",
       "      <td>BDA_12C_20181127_1_04_06</td>\n",
       "      <td>2</td>\n",
       "      <td>[256.5953063964844, 366.4666748046875, 60.8000...</td>\n",
       "      <td>Goose</td>\n",
       "      <td>BDA_12C_20181127_1</td>\n",
       "    </tr>\n",
       "  </tbody>\n",
       "</table>\n",
       "</div>"
      ],
      "text/plain": [
       "       Unnamed: 0                  filename  category_id  \\\n",
       "27970       34027  BDA_12C_20181127_1_01_05            1   \n",
       "27971       34029  BDA_12C_20181127_1_04_06            2   \n",
       "27972       34030  BDA_12C_20181127_1_04_06            2   \n",
       "27973       34031  BDA_12C_20181127_1_04_06            2   \n",
       "27974       34032  BDA_12C_20181127_1_04_06            2   \n",
       "\n",
       "                                                    bbox category  \\\n",
       "27970       [553.5484619140625, 232.234375, 63.0, 131.0]    Crane   \n",
       "27971  [304.40625, 213.43751525878906, 70.96672058105...    Goose   \n",
       "27972  [207.2039031982422, 318.0, 81.60002899169922, ...    Goose   \n",
       "27973  [182.22291564941406, 356.73333740234375, 42.80...    Goose   \n",
       "27974  [256.5953063964844, 366.4666748046875, 60.8000...    Goose   \n",
       "\n",
       "                 basefile  \n",
       "27970  BDA_12C_20181127_1  \n",
       "27971  BDA_12C_20181127_1  \n",
       "27972  BDA_12C_20181127_1  \n",
       "27973  BDA_12C_20181127_1  \n",
       "27974  BDA_12C_20181127_1  "
      ]
     },
     "execution_count": 18,
     "metadata": {},
     "output_type": "execute_result"
    }
   ],
   "source": [
    "tiled_df['filename'] = tiled_df['filename'].str.replace('.png', '')\n",
    "tiled_df.head()"
   ]
  },
  {
   "cell_type": "code",
   "execution_count": 21,
   "metadata": {},
   "outputs": [
    {
     "data": {
      "text/plain": [
       "array(['BDA_12C_20181127_1', 'BDA_12C_20181127_2', 'BDA_12C_20181127_3',\n",
       "       'BDA_18A4_20181106_1', 'BDA_18A4_20181106_2',\n",
       "       'BDA_18A4_20181106_3', 'BDA_18A4_20181106_4',\n",
       "       'BDA_18A4_20181107_1', 'BDA_18A4_20181107_2',\n",
       "       'BDA_18A4_20181107_3', 'BDA_18A4_20181107_4', 'mxw_L13_20181215_1'],\n",
       "      dtype=object)"
      ]
     },
     "execution_count": 21,
     "metadata": {},
     "output_type": "execute_result"
    }
   ],
   "source": [
    "tiled_df[\"basefile\"].unique()"
   ]
  },
  {
   "cell_type": "code",
   "execution_count": 33,
   "metadata": {},
   "outputs": [
    {
     "data": {
      "text/plain": [
       "'5'"
      ]
     },
     "execution_count": 33,
     "metadata": {},
     "output_type": "execute_result"
    }
   ],
   "source": [
    "tiled_df[\"bbox\"][27970][1]\n"
   ]
  },
  {
   "cell_type": "code",
   "execution_count": 34,
   "metadata": {},
   "outputs": [
    {
     "name": "stderr",
     "output_type": "stream",
     "text": [
      "/var/folders/21/q9_tvtjj53n6mfprd_174cz00000gn/T/ipykernel_9089/1073179199.py:32: SettingWithCopyWarning: \n",
      "A value is trying to be set on a copy of a slice from a DataFrame.\n",
      "Try using .loc[row_indexer,col_indexer] = value instead\n",
      "\n",
      "See the caveats in the documentation: https://pandas.pydata.org/pandas-docs/stable/user_guide/indexing.html#returning-a-view-versus-a-copy\n",
      "  tiled_df.at[index, 'fullimgbbox'] = f'[{bbox_x}, {bbox_y}, {bbox_width}, {bbox_height}]'\n"
     ]
    }
   ],
   "source": [
    "# Define the size of the original image and the tile grid\n",
    "original_image_width = 5472  # replace with the actual width of your original image\n",
    "original_image_height = 3648  # replace with the actual height of your original image\n",
    "tile_grid_width = 8\n",
    "tile_grid_height = 7\n",
    "\n",
    "# Define the size of each tile based on the original image size and the tile grid\n",
    "tile_size_x = original_image_width // tile_grid_width\n",
    "tile_size_y = original_image_height // tile_grid_height\n",
    "\n",
    "\n",
    "# Iterate through each row of the spreadsheet\n",
    "for index, row in tiled_df.iterrows():\n",
    "\n",
    "    # Extract the tile coordinates from the tile name\n",
    "    tile_name = row['filename']\n",
    "    tile_x, tile_y = map(int, tile_name.split('_')[-2:])\n",
    "\n",
    "    # Calculate the top-left x and y coordinates of the tile on the original image\n",
    "    top_left_x = (tile_x - 1) * tile_size_x\n",
    "    top_left_y = (tile_y - 1) * tile_size_y\n",
    "\n",
    "    # Extract the bounding box coordinates\n",
    "    bbox = row['bbox']\n",
    "    bbox_x, bbox_y, bbox_width, bbox_height = map(float, bbox.strip('[]').split(','))\n",
    "\n",
    "    # Translate the bounding box coordinates from the tile to the original image\n",
    "    bbox_x += top_left_x\n",
    "    bbox_y += top_left_y\n",
    "\n",
    "    # Update the bounding box coordinates in the dataframe\n",
    "    tiled_df.at[index, 'fullimgbbox'] = f'[{bbox_x}, {bbox_y}, {bbox_width}, {bbox_height}]'"
   ]
  },
  {
   "cell_type": "code",
   "execution_count": 35,
   "metadata": {},
   "outputs": [
    {
     "data": {
      "text/html": [
       "<div>\n",
       "<style scoped>\n",
       "    .dataframe tbody tr th:only-of-type {\n",
       "        vertical-align: middle;\n",
       "    }\n",
       "\n",
       "    .dataframe tbody tr th {\n",
       "        vertical-align: top;\n",
       "    }\n",
       "\n",
       "    .dataframe thead th {\n",
       "        text-align: right;\n",
       "    }\n",
       "</style>\n",
       "<table border=\"1\" class=\"dataframe\">\n",
       "  <thead>\n",
       "    <tr style=\"text-align: right;\">\n",
       "      <th></th>\n",
       "      <th>Unnamed: 0</th>\n",
       "      <th>filename</th>\n",
       "      <th>category_id</th>\n",
       "      <th>bbox</th>\n",
       "      <th>category</th>\n",
       "      <th>basefile</th>\n",
       "      <th>fullimgbbox</th>\n",
       "    </tr>\n",
       "  </thead>\n",
       "  <tbody>\n",
       "    <tr>\n",
       "      <th>27970</th>\n",
       "      <td>34027</td>\n",
       "      <td>BDA_12C_20181127_1_01_05</td>\n",
       "      <td>1</td>\n",
       "      <td>[553.5484619140625, 232.234375, 63.0, 131.0]</td>\n",
       "      <td>Crane</td>\n",
       "      <td>BDA_12C_20181127_1</td>\n",
       "      <td>[553.5484619140625, 2316.234375, 63.0, 131.0]</td>\n",
       "    </tr>\n",
       "    <tr>\n",
       "      <th>27971</th>\n",
       "      <td>34029</td>\n",
       "      <td>BDA_12C_20181127_1_04_06</td>\n",
       "      <td>2</td>\n",
       "      <td>[304.40625, 213.43751525878906, 70.96672058105...</td>\n",
       "      <td>Goose</td>\n",
       "      <td>BDA_12C_20181127_1</td>\n",
       "      <td>[2356.40625, 2818.437515258789, 70.96672058105...</td>\n",
       "    </tr>\n",
       "    <tr>\n",
       "      <th>27972</th>\n",
       "      <td>34030</td>\n",
       "      <td>BDA_12C_20181127_1_04_06</td>\n",
       "      <td>2</td>\n",
       "      <td>[207.2039031982422, 318.0, 81.60002899169922, ...</td>\n",
       "      <td>Goose</td>\n",
       "      <td>BDA_12C_20181127_1</td>\n",
       "      <td>[2259.203903198242, 2923.0, 81.60002899169922,...</td>\n",
       "    </tr>\n",
       "    <tr>\n",
       "      <th>27973</th>\n",
       "      <td>34031</td>\n",
       "      <td>BDA_12C_20181127_1_04_06</td>\n",
       "      <td>2</td>\n",
       "      <td>[182.22291564941406, 356.73333740234375, 42.80...</td>\n",
       "      <td>Goose</td>\n",
       "      <td>BDA_12C_20181127_1</td>\n",
       "      <td>[2234.222915649414, 2961.7333374023438, 42.800...</td>\n",
       "    </tr>\n",
       "    <tr>\n",
       "      <th>27974</th>\n",
       "      <td>34032</td>\n",
       "      <td>BDA_12C_20181127_1_04_06</td>\n",
       "      <td>2</td>\n",
       "      <td>[256.5953063964844, 366.4666748046875, 60.8000...</td>\n",
       "      <td>Goose</td>\n",
       "      <td>BDA_12C_20181127_1</td>\n",
       "      <td>[2308.5953063964844, 2971.4666748046875, 60.80...</td>\n",
       "    </tr>\n",
       "  </tbody>\n",
       "</table>\n",
       "</div>"
      ],
      "text/plain": [
       "       Unnamed: 0                  filename  category_id  \\\n",
       "27970       34027  BDA_12C_20181127_1_01_05            1   \n",
       "27971       34029  BDA_12C_20181127_1_04_06            2   \n",
       "27972       34030  BDA_12C_20181127_1_04_06            2   \n",
       "27973       34031  BDA_12C_20181127_1_04_06            2   \n",
       "27974       34032  BDA_12C_20181127_1_04_06            2   \n",
       "\n",
       "                                                    bbox category  \\\n",
       "27970       [553.5484619140625, 232.234375, 63.0, 131.0]    Crane   \n",
       "27971  [304.40625, 213.43751525878906, 70.96672058105...    Goose   \n",
       "27972  [207.2039031982422, 318.0, 81.60002899169922, ...    Goose   \n",
       "27973  [182.22291564941406, 356.73333740234375, 42.80...    Goose   \n",
       "27974  [256.5953063964844, 366.4666748046875, 60.8000...    Goose   \n",
       "\n",
       "                 basefile                                        fullimgbbox  \n",
       "27970  BDA_12C_20181127_1      [553.5484619140625, 2316.234375, 63.0, 131.0]  \n",
       "27971  BDA_12C_20181127_1  [2356.40625, 2818.437515258789, 70.96672058105...  \n",
       "27972  BDA_12C_20181127_1  [2259.203903198242, 2923.0, 81.60002899169922,...  \n",
       "27973  BDA_12C_20181127_1  [2234.222915649414, 2961.7333374023438, 42.800...  \n",
       "27974  BDA_12C_20181127_1  [2308.5953063964844, 2971.4666748046875, 60.80...  "
      ]
     },
     "execution_count": 35,
     "metadata": {},
     "output_type": "execute_result"
    }
   ],
   "source": [
    "tiled_df.head()"
   ]
  },
  {
   "cell_type": "code",
   "execution_count": null,
   "metadata": {},
   "outputs": [],
   "source": [
    "# Write the updated dataframe to a new CSV file\n",
    "tiled_df.to_csv('bounding_boxes_translated.csv', index=False)"
   ]
  }
 ],
 "metadata": {
  "kernelspec": {
   "display_name": "dronesforducks",
   "language": "python",
   "name": "python3"
  },
  "language_info": {
   "codemirror_mode": {
    "name": "ipython",
    "version": 3
   },
   "file_extension": ".py",
   "mimetype": "text/x-python",
   "name": "python",
   "nbconvert_exporter": "python",
   "pygments_lexer": "ipython3",
   "version": "3.8.13"
  },
  "orig_nbformat": 4
 },
 "nbformat": 4,
 "nbformat_minor": 2
}
