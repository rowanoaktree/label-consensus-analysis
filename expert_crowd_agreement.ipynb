{
 "cells": [
  {
   "cell_type": "code",
   "execution_count": null,
   "metadata": {},
   "outputs": [],
   "source": [
    "import csv\n",
    "import numpy as np"
   ]
  },
  {
   "cell_type": "code",
   "execution_count": null,
   "metadata": {},
   "outputs": [],
   "source": [
    "#Import refined labels\n",
    "\n",
    "#expert consensus labels\n",
    "with open('labels1.csv', 'r') as f:\n",
    "    reader = csv.reader(f)\n",
    "    labels1 = [row for row in reader]\n",
    "#crowdsourced consensus labels\n",
    "with open('labels2.csv', 'r') as f:\n",
    "    reader = csv.reader(f)\n",
    "    labels2 = [row for row in reader]"
   ]
  },
  {
   "cell_type": "code",
   "execution_count": null,
   "metadata": {},
   "outputs": [],
   "source": [
    "#Confusion matrix -- expert and crowd\n",
    "\n",
    "#Function to calculate IOU of bounding boxes\n",
    "def calculate_iou(box1, box2):\n",
    "    x1, y1, w1, h1 = box1\n",
    "    x2, y2, w2, h2 = box2\n",
    "    x_overlap = max(0, min(x1+w1, x2+w2) - max(x1, x2))\n",
    "    y_overlap = max(0, min(y1+h1, y2+h2) - max(y1, y2))\n",
    "    intersection = x_overlap * y_overlap\n",
    "    union = (w1 * h1) + (w2 * h2) - intersection\n",
    "    return intersection / union\n",
    "\n",
    "#Create a dictionary to store the bounding boxes and class IDs for each image\n",
    "boxes1 = {}\n",
    "classes1 = {}\n",
    "boxes2 = {}\n",
    "classes2 = {}\n",
    "for row in labels1:\n",
    "    if row[1] not in boxes1:\n",
    "        boxes1[row[1]] = []\n",
    "        classes1[row[1]] = []\n",
    "    boxes1[row[1]].append([float(x) for x in row[2:6]])\n",
    "    classes1[row[1]].append(row[6])\n",
    "\n",
    "for row in labels2:\n",
    "    if row[1] not in boxes2:\n",
    "        boxes2[row[1]] = []\n",
    "        classes2[row[1]] = []\n",
    "    boxes2[row[1]].append([float(x) for x in row[2:6]])\n",
    "    classes2[row[1]].append(row[6])\n",
    "\n",
    "#Compare the two sets of labels to identify the matching bounding boxes\n",
    "conf_matrix = np.zeros((len(set(sum(classes1.values(), []))), len(set(sum(classes2.values(), [])))))\n",
    "class_map1 = {c: i for i, c in enumerate(sorted(set(sum(classes1.values(), []))))}\n",
    "class_map2 = {c: i for i, c in enumerate(sorted(set(sum(classes2.values(), [])))))}\n",
    "for i, (img_name1, img_boxes1) in enumerate(boxes1.items()):\n",
    "    for j, (img_name2, img_boxes2) in enumerate(boxes2.items()):\n",
    "        for box1, c1 in zip(img_boxes1, classes1[img_name1]):\n",
    "            for box2, c2 in zip(img_boxes2, classes2[img_name2]):\n",
    "                if c1 == c2:\n",
    "                    iou = calculate_iou(box1, box2)\n",
    "                    if iou >= 0.5:\n",
    "                        conf_matrix[class_map1[c1], class_map2[c2]] += 1\n",
    "\n",
    "#Create a confusion matrix to visualize the results\n",
    "print(conf_matrix)"
   ]
  },
  {
   "cell_type": "code",
   "execution_count": null,
   "metadata": {},
   "outputs": [],
   "source": [
    "#Visualize results\n",
    "import matplotlib.pyplot as plt\n",
    "import seaborn as sns\n",
    "\n",
    "# Step 5: Visualize the confusion matrix\n",
    "fig, ax = plt.subplots(figsize=(10, 10))\n",
    "sns.heatmap(conf_matrix, annot=True, fmt='g', cmap='Blues', ax=ax)\n",
    "\n",
    "# Add labels and title\n",
    "ax.set_xlabel('Labels2')\n",
    "ax.set_ylabel('Labels1')\n",
    "ax.set_title('Confusion Matrix')\n",
    "\n",
    "# Add class names as tick labels\n",
    "ax.set_xticklabels(list(class_map2.keys()))\n",
    "ax.set_yticklabels(list(class_map1.keys()))\n",
    "\n",
    "plt.show()"
   ]
  }
 ],
 "metadata": {
  "language_info": {
   "name": "python"
  },
  "orig_nbformat": 4
 },
 "nbformat": 4,
 "nbformat_minor": 2
}
