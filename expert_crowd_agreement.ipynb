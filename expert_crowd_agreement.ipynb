{
 "cells": [
  {
   "cell_type": "code",
   "execution_count": 5,
   "metadata": {},
   "outputs": [],
   "source": [
    "import csv\n",
    "from collections import defaultdict\n",
    "import numpy as np\n",
    "import matplotlib.pyplot as plt\n",
    "import seaborn as sns\n",
    "from shapely.geometry import box"
   ]
  },
  {
   "cell_type": "code",
   "execution_count": 6,
   "metadata": {},
   "outputs": [],
   "source": [
    "#Load the labels from the two files\n",
    "\n",
    "labels_file1 = '/Users/rowanconverse/Library/CloudStorage/OneDrive-UniversityofNewMexico/Dissertation/1_Chapter/consensus/data/clean_crowd_benchmark.csv'\n",
    "labels_file2 = '/Users/rowanconverse/Library/CloudStorage/OneDrive-UniversityofNewMexico/Dissertation/1_Chapter/consensus/data/expert/expertconsensus_superclass.csv'"
   ]
  },
  {
   "cell_type": "code",
   "execution_count": 8,
   "metadata": {},
   "outputs": [],
   "source": [
    "# Define the IOU threshold and read in the labels\n",
    "iou_thresh = 0.5\n",
    "\n",
    "# Define dictionaries to map class IDs to class names\n",
    "class_map1 = {1: 'Crane', 2: 'Goose', 3: 'Duck'}\n",
    "class_map2 = {1: 'Crane', 2: 'Goose', 3: 'Duck'}\n",
    "\n",
    "# Read in the labels from file 1\n",
    "labels1 = defaultdict(list)\n",
    "with open(labels_file1) as csvfile:\n",
    "    reader = csv.reader(csvfile)\n",
    "    next(reader)  # skip header\n",
    "    for row in reader:\n",
    "        label_id, filename, bbox, class_id = row\n",
    "        bbox = [float(x) for x in bbox[1:-1].split(',')]\n",
    "        labels1[filename].append((label_id, bbox, int(class_id)))\n",
    "\n",
    "# Read in the labels from file 2\n",
    "labels2 = defaultdict(list)\n",
    "with open(labels_file2) as csvfile:\n",
    "    reader = csv.reader(csvfile)\n",
    "    next(reader)  # skip header\n",
    "    for row in reader:\n",
    "        label_id, filename, bbox, class_id = row\n",
    "        bbox = [float(x) for x in bbox[1:-1].split(',')]\n",
    "        labels2[filename].append((label_id, bbox, int(class_id)))"
   ]
  },
  {
   "cell_type": "code",
   "execution_count": 35,
   "metadata": {},
   "outputs": [],
   "source": [
    "# Compute the confusion matrix\n",
    "conf_matrix = np.zeros((len(class_map1), len(class_map2)), dtype=int)\n",
    "for filename in set(labels1.keys()) & set(labels2.keys()):\n",
    "    if filename in labels1 and filename in labels2:\n",
    "        for label1 in labels1[filename]:\n",
    "            for label2 in labels2[filename]:\n",
    "                bbox1 = box(*label1[1])\n",
    "                bbox2 = box(*label2[1])\n",
    "                iou = bbox1.intersection(bbox2).area / bbox1.union(bbox2).area\n",
    "                if iou >= iou_thresh and label1[2] == label2[2]:\n",
    "                    conf_matrix[label1[2] - 1, label2[2] - 1] += 1"
   ]
  },
  {
   "cell_type": "code",
   "execution_count": 36,
   "metadata": {},
   "outputs": [
    {
     "name": "stdout",
     "output_type": "stream",
     "text": [
      "Confusion Matrix:\n",
      "[[0 0 0]\n",
      " [0 0 0]\n",
      " [0 0 0]]\n"
     ]
    }
   ],
   "source": [
    "# Print the confusion matrix\n",
    "print('Confusion Matrix:')\n",
    "print(conf_matrix)"
   ]
  },
  {
   "cell_type": "code",
   "execution_count": null,
   "metadata": {},
   "outputs": [],
   "source": [
    "# Visualize the confusion matrix\n",
    "fig, ax = plt.subplots(figsize=(10, 10))\n",
    "sns.heatmap(conf_matrix, annot=True, fmt='g', cmap='Blues', ax=ax)\n",
    "\n",
    "# Add labels and title\n",
    "ax.set_xlabel('Labels2')\n",
    "ax.set_ylabel('Labels1')\n",
    "ax.set_title('Confusion Matrix')\n",
    "\n",
    "# Add class names as tick labels\n",
    "ax.set_xticklabels(list(class_map2.values()))\n",
    "ax.set_yticklabels(list(class_map1.values()))\n",
    "\n",
    "plt.show()"
   ]
  }
 ],
 "metadata": {
  "kernelspec": {
   "display_name": "dronesforducks",
   "language": "python",
   "name": "python3"
  },
  "language_info": {
   "codemirror_mode": {
    "name": "ipython",
    "version": 3
   },
   "file_extension": ".py",
   "mimetype": "text/x-python",
   "name": "python",
   "nbconvert_exporter": "python",
   "pygments_lexer": "ipython3",
   "version": "3.8.13"
  },
  "orig_nbformat": 4
 },
 "nbformat": 4,
 "nbformat_minor": 2
}
