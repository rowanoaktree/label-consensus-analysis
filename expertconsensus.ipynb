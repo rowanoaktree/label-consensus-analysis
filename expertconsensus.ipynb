{
 "cells": [
  {
   "cell_type": "code",
   "execution_count": null,
   "metadata": {},
   "outputs": [],
   "source": [
    "#Created By: Rowan Converse\n",
    "#Date: 2023-03-07\n",
    "#Purpose: Consensus analysis of USFWS biologist labels of imagery from Bosque del Apache and Maxwell NWR"
   ]
  },
  {
   "cell_type": "code",
   "execution_count": 1,
   "metadata": {},
   "outputs": [],
   "source": [
    "#Imports\n",
    "import pandas as pd"
   ]
  },
  {
   "cell_type": "code",
   "execution_count": 2,
   "metadata": {},
   "outputs": [],
   "source": [
    "#Analysis annotations\n",
    "path = \"/Users/rowanconverse/Library/CloudStorage/OneDrive-UniversityofNewMexico/Dissertation/1_Chapter/consensus/data/20230307_expertanalysislabels.csv\"\n",
    "with open(path) as f:\n",
    "  df = pd.read_csv(f)\n",
    "\n",
    "#Refined annotations\n",
    "refinedpath = \"/Users/rowanconverse/Library/CloudStorage/OneDrive-UniversityofNewMexico/CV4Ecology/Prototyping/Data/Labels/train_val_test/20230307_expertconsensuslabels.csv\"\n",
    "with open(refinedpath) as f:\n",
    "  ref = pd.read_csv(f)"
   ]
  },
  {
   "cell_type": "code",
   "execution_count": 6,
   "metadata": {},
   "outputs": [
    {
     "name": "stdout",
     "output_type": "stream",
     "text": [
      "2375\n",
      "Mallard                                                               1688\n",
      "Northern Pintail                                                       262\n",
      "Canadian Goose                                                         140\n",
      "Other                                                                   70\n",
      "Sandhill Crane                                                          52\n",
      "['Mallard' 'Other']                                                     33\n",
      "American Wigeon                                                         22\n",
      "['Mallard' 'Northern Pintail']                                          20\n",
      "['Northern Pintail' 'Other']                                            15\n",
      "['American Wigeon' 'Mallard']                                           15\n",
      "['American Wigeon' 'Mallard' 'Northern Pintail' 'Other' 'Teal']          9\n",
      "['American Wigeon' 'Other']                                              7\n",
      "Gadwall                                                                  5\n",
      "['Gadwall' 'Mallard']                                                    4\n",
      "['Other' 'Teal']                                                         4\n",
      "['American Wigeon' 'Mallard' 'Other']                                    3\n",
      "['Gadwall' 'Other']                                                      2\n",
      "['Mallard' 'Northern Shoveler']                                          2\n",
      "['Mallard' 'Northern Pintail' 'Other']                                   2\n",
      "Teal                                                                     2\n",
      "['Mallard' 'Other' 'Teal']                                               2\n",
      "['American Wigeon' 'Gadwall' 'Teal']                                     2\n",
      "Northern Shoveler                                                        2\n",
      "['American Wigeon' 'Gadwall' 'Mallard' 'Northern Pintail' 'Other']       1\n",
      "['Northern Pintail' 'Northern Shoveler' 'Other']                         1\n",
      "['Gadwall' 'Northern Pintail']                                           1\n",
      "['American Wigeon' 'Mallard' 'Northern Shoveler' 'Other' 'Ruddy']        1\n",
      "['American Wigeon' 'Mallard' 'Other' 'Ruddy' 'Teal']                     1\n",
      "['American Wigeon' 'Gadwall' 'Mallard' 'Other' 'Teal']                   1\n",
      "['Gadwall' 'Mallard' 'Northern Pintail']                                 1\n",
      "['Mallard' 'Teal']                                                       1\n",
      "['American Wigeon' 'Mallard' 'Teal']                                     1\n",
      "['Gadwall' 'Northern Pintail' 'Other']                                   1\n",
      "['American Wigeon' 'Other' 'Teal']                                       1\n",
      "['Northern Pintail' 'Northern Shoveler']                                 1\n",
      "Name: category, dtype: int64\n"
     ]
    }
   ],
   "source": [
    "#Refined annotation statistics\n",
    "print(len(ref))\n",
    "print(ref[\"category\"].value_counts())"
   ]
  },
  {
   "cell_type": "code",
   "execution_count": null,
   "metadata": {},
   "outputs": [],
   "source": [
    "#INDIVIDUAL LABELER METRICS\n",
    "#Goal: report avg count, ID consensus across images, break down by morphological group; also min/max individual vs group consensus\n",
    "#Positional error: create confusion matrix, report commission error, omission error, RMSE, MAE -- bounding boxes, comparing each labeler to the consensus\n",
    "\n",
    "#Score agreement with consensus class label\n",
    "\n",
    "#Score %IOU agreement with consensus box "
   ]
  },
  {
   "cell_type": "code",
   "execution_count": null,
   "metadata": {},
   "outputs": [],
   "source": [
    "#OUTPUTS\n",
    "\n",
    "#Line graph of average identification consensus across all images (y; % agreement) by individual (x). One for expert, one for crowdsourced.  \n",
    "#Bar graph of consensus (y; % agreement) by morphology (x; duck/goose/crane). Two bars per class, one for expert, one for crowdsourced\n",
    "#Line graph of average count consensus across all images (y; % agreement) by individual (x). One for expert, one for crowdsourced.  \n",
    "#Line graph of consensus (y; % agreement) by density (x; consensus # of individuals per image). One line for expert, one line for crowdsourced.\n"
   ]
  }
 ],
 "metadata": {
  "kernelspec": {
   "display_name": "dronesforducks",
   "language": "python",
   "name": "python3"
  },
  "language_info": {
   "codemirror_mode": {
    "name": "ipython",
    "version": 3
   },
   "file_extension": ".py",
   "mimetype": "text/x-python",
   "name": "python",
   "nbconvert_exporter": "python",
   "pygments_lexer": "ipython3",
   "version": "3.8.13"
  },
  "orig_nbformat": 4
 },
 "nbformat": 4,
 "nbformat_minor": 2
}
