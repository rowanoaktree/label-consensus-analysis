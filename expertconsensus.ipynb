{
 "cells": [
  {
   "cell_type": "code",
   "execution_count": null,
   "metadata": {},
   "outputs": [],
   "source": [
    "#Created By: Rowan Converse\n",
    "#Date: 2023-03-07\n",
    "#Purpose: Consensus analysis of USFWS biologist labels of imagery from Bosque del Apache and Maxwell NWR"
   ]
  },
  {
   "cell_type": "code",
   "execution_count": null,
   "metadata": {},
   "outputs": [],
   "source": [
    "#Imports\n"
   ]
  },
  {
   "cell_type": "code",
   "execution_count": null,
   "metadata": {},
   "outputs": [],
   "source": [
    "#Analysis annotations\n",
    "path = \"/Users/rowanconverse/Library/CloudStorage/OneDrive-UniversityofNewMexico/Dissertation/1_Chapter/consensus/data/20230307_expertanalysislabels.csv\"\n",
    "\n",
    "#Refined annotations\n",
    "refinedpath = \"/Users/rowanconverse/Library/CloudStorage/OneDrive-UniversityofNewMexico/CV4Ecology/Prototyping/Data/Labels/train_val_test/20230307_expertconsensuslabels.csv\""
   ]
  },
  {
   "cell_type": "code",
   "execution_count": null,
   "metadata": {},
   "outputs": [],
   "source": [
    "#Refined annotation statistics"
   ]
  },
  {
   "cell_type": "code",
   "execution_count": null,
   "metadata": {},
   "outputs": [],
   "source": [
    "#INDIVIDUAL LABELER METRICS\n",
    "#Goal: report avg count, ID consensus across images, break down by morphological group; also min/max individual vs group consensus\n",
    "#Positional error: create confusion matrix, report commission error, omission error, RMSE, MAE -- bounding boxes, comparing each labeler to the consensus\n",
    "\n",
    "#Score agreement with consensus class label\n",
    "\n",
    "#Score %IOU agreement with consensus box "
   ]
  },
  {
   "cell_type": "code",
   "execution_count": null,
   "metadata": {},
   "outputs": [],
   "source": [
    "#OUTPUTS\n",
    "\n",
    "#Line graph of average identification consensus across all images (y; % agreement) by individual (x). One for expert, one for crowdsourced.  \n",
    "#Bar graph of consensus (y; % agreement) by morphology (x; duck/goose/crane). Two bars per class, one for expert, one for crowdsourced\n",
    "#Line graph of average count consensus across all images (y; % agreement) by individual (x). One for expert, one for crowdsourced.  \n",
    "#Line graph of consensus (y; % agreement) by density (x; consensus # of individuals per image). One line for expert, one line for crowdsourced.\n"
   ]
  }
 ],
 "metadata": {
  "language_info": {
   "name": "python"
  },
  "orig_nbformat": 4
 },
 "nbformat": 4,
 "nbformat_minor": 2
}
