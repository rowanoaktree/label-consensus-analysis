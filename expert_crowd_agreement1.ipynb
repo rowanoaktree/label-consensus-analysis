{
 "cells": [
  {
   "cell_type": "code",
   "execution_count": 1,
   "metadata": {},
   "outputs": [],
   "source": [
    "import csv\n",
    "from collections import defaultdict\n",
    "import numpy as np\n",
    "import matplotlib.pyplot as plt\n",
    "import seaborn as sns\n",
    "from shapely.geometry import box\n",
    "from sklearn.metrics import confusion_matrix\n",
    "import pandas as pd\n"
   ]
  },
  {
   "cell_type": "code",
   "execution_count": 5,
   "metadata": {},
   "outputs": [],
   "source": [
    "#Load the labels from the two files\n",
    "\n",
    "crowd_labels_file = '/Users/rowanconverse/Library/CloudStorage/OneDrive-UniversityofNewMexico/Dissertation/1_Chapter/consensus/data/clean_crowd_benchmark.csv'\n",
    "expert_labels_file = '/Users/rowanconverse/Library/CloudStorage/OneDrive-UniversityofNewMexico/Dissertation/1_Chapter/consensus/data/expert/expertconsensus_superclass.csv'"
   ]
  },
  {
   "attachments": {},
   "cell_type": "markdown",
   "metadata": {},
   "source": [
    "Usefull functions"
   ]
  },
  {
   "cell_type": "code",
   "execution_count": 6,
   "metadata": {},
   "outputs": [],
   "source": [
    "# This function takes four arguments: the x and y coordinates of the top-left corner of a bounding box (x1, y1), \n",
    "# the width (w), and the height (h) of the bounding box. It returns a list of four values: the x and y coordinates \n",
    "# of the top-left corner of the bounding box (x1, y1), and the x and y coordinates of the bottom-right corner of the \n",
    "# bounding box (x1 + w, y1 + h), in the format required by the Pascal VOC dataset.\n",
    "\n",
    "def coco_to_pascal_voc(x1, y1, w, h):\n",
    "    return [x1,y1, x1 + w, y1 + h]\n",
    "\n"
   ]
  },
  {
   "cell_type": "code",
   "execution_count": 15,
   "metadata": {},
   "outputs": [],
   "source": [
    "# Define dictionaries to map class IDs to class names\n",
    "class_map1 = {1: 'Crane', 2: 'Goose', 3: 'Duck'}\n",
    "class_map2 = {1: 'Crane', 2: 'Goose', 3: 'Duck'}\n",
    "\n",
    "# Read in the labels from file 1\n",
    "crowd_labels = defaultdict(list)\n",
    "\n",
    "with open(crowd_labels_file) as csvfile:\n",
    "    reader = csv.reader(csvfile)\n",
    "    next(reader)  # skip header\n",
    "    for row in reader:\n",
    "        if len(row)>0:\n",
    "            label_id, filename, bbox, class_id = row\n",
    "            bbox = [float(x) for x in bbox[1:-1].split(',')]\n",
    "            bbox=coco_to_pascal_voc(*bbox)\n",
    "            crowd_labels[filename].append((label_id, bbox, int(class_id)))\n",
    "\n",
    "\n",
    "# # Read in the labels from file 2\n",
    "expert_labels = defaultdict(list)\n",
    "with open(expert_labels_file) as csvfile:\n",
    "    reader = csv.reader(csvfile)\n",
    "    next(reader)  # skip header\n",
    "    for row in reader:\n",
    "        if len(row)>0:\n",
    "            label_id, filename, bbox, class_id = row\n",
    "            filename=filename.replace('.JPG','')\n",
    "            bbox = [float(x) for x in bbox[1:-1].split(',')]\n",
    "            bbox=coco_to_pascal_voc(*bbox)\n",
    "            expert_labels[filename].append((label_id, bbox, int(class_id)))\n"
   ]
  },
  {
   "cell_type": "code",
   "execution_count": 44,
   "metadata": {},
   "outputs": [],
   "source": [
    "# Compute the confusion matrix\n",
    "\n",
    "# Define the IOU threshold and read in the labels\n",
    "iou_thresh = 0.20\n",
    "\n",
    "# Initialize empty lists to store matching labels\n",
    "truth_list=[]\n",
    "test_list=[]\n",
    "\n",
    "# Iterate through files that have labels from both experts and crowdworkers\n",
    "for filename in set(crowd_labels.keys()) & set(expert_labels.keys()):\n",
    "    \n",
    "    # Check if the current file has labels from both sources\n",
    "    if filename in crowd_labels and filename in expert_labels:\n",
    "        \n",
    "        # Iterate through each label from the expert\n",
    "        for expert_label in expert_labels[filename]:\n",
    "            \n",
    "            # Iterate through each label from the crowdworker\n",
    "            for crowd_label in crowd_labels[filename]:\n",
    "\n",
    "                # Convert the bounding box coordinates into a shapely object\n",
    "                bbox1 = box(*crowd_label[1])\n",
    "                bbox2 = box(*expert_label[1])\n",
    "                \n",
    "                # Compute the intersection over union (IOU) between the two bounding boxes\n",
    "                iou = bbox1.intersection(bbox2).area / bbox1.union(bbox2).area\n",
    "                \n",
    "                # If the IOU is above the threshold, consider the labels a \"match\" and add them to the list to compare expert with crowdworker.\n",
    "                if iou >= iou_thresh:\n",
    "                    truth_list.append(expert_label[2])\n",
    "                    test_list.append(crowd_label[2])\n",
    "\n",
    "# Compute a confusion matrix to evaluate the performance of the crowdworkers\n",
    "conf_matrix=confusion_matrix(truth_list,test_list)\n"
   ]
  },
  {
   "cell_type": "code",
   "execution_count": 45,
   "metadata": {},
   "outputs": [
    {
     "name": "stdout",
     "output_type": "stream",
     "text": [
      "Confusion Matrix:\n",
      "[[  46    0    1]\n",
      " [   0  104   13]\n",
      " [   1    0 1407]]\n"
     ]
    }
   ],
   "source": [
    "# Print the confusion matrix\n",
    "print('Confusion Matrix:')\n",
    "print(conf_matrix)"
   ]
  },
  {
   "cell_type": "code",
   "execution_count": 39,
   "metadata": {},
   "outputs": [
    {
     "name": "stdout",
     "output_type": "stream",
     "text": [
      "Precision:  0.9979879275653923\n",
      "Recall:  0.9696969696969697\n",
      "F-1 score:  0.9831179023913634\n"
     ]
    }
   ],
   "source": [
    "from sklearn.metrics import precision_score, recall_score, f1_score\n",
    "\n",
    "# Compute precision\n",
    "precision = precision_score(truth_list, test_list, average='macro')\n",
    "\n",
    "# Compute recall\n",
    "recall = recall_score(truth_list, test_list, average='macro')\n",
    "\n",
    "# Compute F-1 score\n",
    "f1 = f1_score(truth_list, test_list, average='macro')\n",
    "\n",
    "print(\"Precision: \", precision)\n",
    "print(\"Recall: \", recall)\n",
    "print(\"F-1 score: \", f1)"
   ]
  },
  {
   "cell_type": "code",
   "execution_count": 34,
   "metadata": {},
   "outputs": [
    {
     "data": {
      "image/png": "[encoded data removed]",
      "text/plain": [
       "<Figure size 720x720 with 2 Axes>"
      ]
     },
     "metadata": {
      "needs_background": "light"
     },
     "output_type": "display_data"
    }
   ],
   "source": [
    "# chart the confusion matrix\n",
    "fig, ax = plt.subplots(figsize=(10, 10))\n",
    "sns.heatmap(conf_matrix, annot=True, fmt='g', cmap='Blues', ax=ax)\n",
    "\n",
    "# Add labels and title\n",
    "ax.set_xlabel('Expert Labels')\n",
    "ax.set_ylabel('Crowdsourced Labels')\n",
    "ax.set_title('IOU Threshold: 0.1')\n",
    "\n",
    "# Add class names as tick labels\n",
    "ax.set_xticklabels(list(class_map2.values()))\n",
    "ax.set_yticklabels(list(class_map1.values()))\n",
    "\n",
    "plt.show()"
   ]
  }
 ],
 "metadata": {
  "kernelspec": {
   "display_name": "Python 3",
   "language": "python",
   "name": "python3"
  },
  "language_info": {
   "codemirror_mode": {
    "name": "ipython",
    "version": 3
   },
   "file_extension": ".py",
   "mimetype": "text/x-python",
   "name": "python",
   "nbconvert_exporter": "python",
   "pygments_lexer": "ipython3",
   "version": "3.8.13"
  },
  "orig_nbformat": 4,
  "vscode": {
   "interpreter": {
    "hash": "31f2aee4e71d21fbe5cf8b01ff0e069b9275f58929596ceb00d14d90e3e16cd6"
   }
  }
 },
 "nbformat": 4,
 "nbformat_minor": 2
}
