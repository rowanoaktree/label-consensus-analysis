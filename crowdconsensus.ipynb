{
 "cells": [
  {
   "cell_type": "code",
   "execution_count": null,
   "metadata": {},
   "outputs": [],
   "source": [
    "#Created By: Rowan Converse\n",
    "#Date: 2023-03-07\n",
    "#Purpose: Consensus analysis of crowdsourced Zooniverse labels of imagery from Bosque del Apache and Maxwell NWR, Ladd S Gordon Waterfowl Complex, Rio Grande State Park"
   ]
  },
  {
   "cell_type": "code",
   "execution_count": 1,
   "metadata": {},
   "outputs": [],
   "source": [
    "#Imports\n",
    "import pandas as pd"
   ]
  },
  {
   "cell_type": "code",
   "execution_count": 5,
   "metadata": {},
   "outputs": [],
   "source": [
    "#Analysis annotations\n",
    "dgc_path = \"/Users/rowanconverse/Library/CloudStorage/OneDrive-UniversityofNewMexico/Dissertation/1_Chapter/consensus/data/20230307_zooniverseanalysislabels.csv\"\n",
    "with open(dgc_path) as f:\n",
    "  dgc = pd.read_csv(f)\n",
    "seagull_path = \"/Users/rowanconverse/Library/CloudStorage/OneDrive-UniversityofNewMexico/Dissertation/1_Chapter/consensus/data/20230307_zooniverseanalysislabels_seagull.csv\"\n",
    "with open(seagull_path) as f:\n",
    "  seagull = pd.read_csv(f)\n",
    "\n",
    "#Refined annotations\n",
    "#Drops\n",
    "ref_dgc = \"/Users/rowanconverse/Library/CloudStorage/OneDrive-UniversityofNewMexico/Dissertation/1_Chapter/consensus/data/20230307_zooniverseconsensuslabels.csv\"\n",
    "with open(ref_dgc) as f:\n",
    "  ref_zoo = pd.read_csv(f)\n",
    "ref_seagull = \"/Users/rowanconverse/Library/CloudStorage/OneDrive-UniversityofNewMexico/Dissertation/1_Chapter/consensus/data/20230307_zooniverseconsensuslabels_seagull.csv\"\n",
    "with open(ref_seagull) as f:\n",
    "  ref_sea = pd.read_csv(f)\n",
    "#No Drops\n",
    "dgc_nodrops = \"/Users/rowanconverse/Library/CloudStorage/OneDrive-UniversityofNewMexico/Dissertation/1_Chapter/consensus/data/20230307_zooniverseconsensuslabels_nodrops.csv\"\n",
    "with open(dgc_nodrops) as f:\n",
    "  zoo_nodrops = pd.read_csv(f)\n",
    "seagull_nodrops = \"/Users/rowanconverse/Library/CloudStorage/OneDrive-UniversityofNewMexico/Dissertation/1_Chapter/consensus/data/20230307_zooniverseconsensuslabels_seagull_nodrops.csv\"\n",
    "with open(seagull_nodrops) as f:\n",
    "  sea_nodrops = pd.read_csv(f)"
   ]
  },
  {
   "cell_type": "code",
   "execution_count": 10,
   "metadata": {},
   "outputs": [
    {
     "name": "stdout",
     "output_type": "stream",
     "text": [
      "362 seagull images were removed due to bad clustering, or 0.11806914546640573 percent of the total\n",
      "2236 DGC images were removed due to bad clustering, or 0.08018648018648018 percent of the total\n"
     ]
    }
   ],
   "source": [
    "#Refined dataset statistics\n",
    "dropsea = len(ref_sea[\"filename\"].unique())\n",
    "nodropsea = len(sea_nodrops[\"filename\"].unique())\n",
    "missea = nodropsea - dropsea\n",
    "persea = missea / nodropsea\n",
    "\n",
    "print(\"%s seagull images were removed due to bad clustering, or %s percent of the total\"%(missea,persea))\n",
    "\n",
    "drop = len(ref_zoo[\"filename\"].unique())\n",
    "nodrop = len(zoo_nodrops[\"filename\"].unique())\n",
    "misszoo = nodrop - drop\n",
    "perzoo = misszoo / nodrop\n",
    "print(\"%s DGC images were removed due to bad clustering, or %s percent of the total\"%(misszoo,perzoo))\n",
    "#ref_zoo.head()\n",
    "#ref_sea[\"category_id\"].value_counts()"
   ]
  },
  {
   "cell_type": "code",
   "execution_count": 17,
   "metadata": {},
   "outputs": [
    {
     "data": {
      "text/plain": [
       "1192469"
      ]
     },
     "execution_count": 17,
     "metadata": {},
     "output_type": "execute_result"
    }
   ],
   "source": []
  },
  {
   "cell_type": "code",
   "execution_count": 43,
   "metadata": {},
   "outputs": [
    {
     "name": "stderr",
     "output_type": "stream",
     "text": [
      "/var/folders/21/q9_tvtjj53n6mfprd_174cz00000gn/T/ipykernel_21418/3532301414.py:2: FutureWarning: Indexing with multiple keys (implicitly converted to a tuple of keys) will be deprecated, use a list instead.\n",
      "  clusters = dgc.groupby(\"filename\")[\"bbox_orig\",\"cluster_id\",\"labeler_id\"].nunique()\n"
     ]
    }
   ],
   "source": [
    "#Search for images that have an unexpected number of clusters-- see how many there are \n",
    "clusters = dgc.groupby(\"filename\")[\"bbox_orig\",\"cluster_id\",\"labeler_id\"].nunique()\n",
    "c = clusters.reset_index()\n",
    "c[\"expected\"] = c[\"bbox_orig\"]/c[\"labeler_id\"]\n",
    "c[\"diff\"] = c[\"cluster_id\"]/c[\"expected\"]"
   ]
  },
  {
   "cell_type": "code",
   "execution_count": 49,
   "metadata": {},
   "outputs": [
    {
     "data": {
      "text/plain": [
       "20178"
      ]
     },
     "execution_count": 49,
     "metadata": {},
     "output_type": "execute_result"
    }
   ],
   "source": [
    "pd.eval(\"c['diff'] > 1.1 or c['diff'] < 0.9\").sum()\n"
   ]
  },
  {
   "cell_type": "code",
   "execution_count": null,
   "metadata": {},
   "outputs": [],
   "source": [
    "#INDIVIDUAL LABELER METRICS\n",
    "#Goal: report avg count, ID consensus across images, break down by morphological group; also min/max individual vs group consensus\n",
    "#Positional error: create confusion matrix, report commission error, omission error, RMSE, MAE -- bounding boxes, comparing each labeler to the consensus\n",
    "\n",
    "#Score agreement with consensus class label\n",
    "\n",
    "#Score %IOU agreement with consensus box "
   ]
  },
  {
   "cell_type": "code",
   "execution_count": null,
   "metadata": {},
   "outputs": [],
   "source": [
    "#OUTPUTS\n",
    "\n",
    "#Line graph of average identification consensus across all images (y; % agreement) by individual (x). One for expert, one for crowdsourced.  \n",
    "#Bar graph of consensus (y; % agreement) by morphology (x; duck/goose/crane). Two bars per class, one for expert, one for crowdsourced\n",
    "#Line graph of average count consensus across all images (y; % agreement) by individual (x). One for expert, one for crowdsourced.  \n",
    "#Line graph of consensus (y; % agreement) by density (x; consensus # of individuals per image). One line for expert, one line for crowdsourced.\n"
   ]
  }
 ],
 "metadata": {
  "kernelspec": {
   "display_name": "dronesforducks",
   "language": "python",
   "name": "python3"
  },
  "language_info": {
   "codemirror_mode": {
    "name": "ipython",
    "version": 3
   },
   "file_extension": ".py",
   "mimetype": "text/x-python",
   "name": "python",
   "nbconvert_exporter": "python",
   "pygments_lexer": "ipython3",
   "version": "3.8.13"
  },
  "orig_nbformat": 4
 },
 "nbformat": 4,
 "nbformat_minor": 2
}
