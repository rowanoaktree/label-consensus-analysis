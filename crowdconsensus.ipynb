{
 "cells": [
  {
   "cell_type": "code",
   "execution_count": null,
   "metadata": {},
   "outputs": [],
   "source": [
    "#Created By: Rowan Converse\n",
    "#Date: 2023-03-07\n",
    "#Purpose: Consensus analysis of crowdsourced Zooniverse labels of imagery from Bosque del Apache and Maxwell NWR, Ladd S Gordon Waterfowl Complex, Rio Grande State Park"
   ]
  },
  {
   "cell_type": "code",
   "execution_count": 21,
   "metadata": {},
   "outputs": [],
   "source": [
    "#Imports\n",
    "import pandas as pd\n",
    "import numpy as np\n",
    "import os"
   ]
  },
  {
   "cell_type": "code",
   "execution_count": 15,
   "metadata": {},
   "outputs": [],
   "source": [
    "#Analysis annotations\n",
    "dgc_path = \"/Users/rowanconverse/Library/CloudStorage/OneDrive-UniversityofNewMexico/Dissertation/1_Chapter/consensus/data/crowdsourced/20230307_zooniverseanalysislabels_nodrops.csv\"\n",
    "with open(dgc_path) as f:\n",
    "  dgc = pd.read_csv(f)\n",
    "seagull_path = \"/Users/rowanconverse/Library/CloudStorage/OneDrive-UniversityofNewMexico/Dissertation/1_Chapter/consensus/data/crowdsourced/20230307_zooniverseanalysislabels_seagull_nodrops.csv\"\n",
    "with open(seagull_path) as f:\n",
    "  seagull = pd.read_csv(f)\n",
    "\n",
    "#Refined annotations\n",
    "#Drops\n",
    "ref_dgc = \"/Users/rowanconverse/Library/CloudStorage/OneDrive-UniversityofNewMexico/Dissertation/1_Chapter/consensus/data/crowdsourced/20230307_zooniverseconsensuslabels.csv\"\n",
    "with open(ref_dgc) as f:\n",
    "  ref_zoo = pd.read_csv(f)\n",
    "ref_seagull = \"/Users/rowanconverse/Library/CloudStorage/OneDrive-UniversityofNewMexico/Dissertation/1_Chapter/consensus/data/crowdsourced/20230307_zooniverseconsensuslabels_seagull.csv\"\n",
    "with open(ref_seagull) as f:\n",
    "  ref_sea = pd.read_csv(f)\n",
    "#No Drops\n",
    "dgc_nodrops = \"/Users/rowanconverse/Library/CloudStorage/OneDrive-UniversityofNewMexico/Dissertation/1_Chapter/consensus/data/crowdsourced/20230307_zooniverseconsensuslabels_nodrops.csv\"\n",
    "with open(dgc_nodrops) as f:\n",
    "  zoo_nodrops = pd.read_csv(f)\n",
    "seagull_nodrops = \"/Users/rowanconverse/Library/CloudStorage/OneDrive-UniversityofNewMexico/Dissertation/1_Chapter/consensus/data/crowdsourced/20230307_zooniverseconsensuslabels_seagull_nodrops.csv\"\n",
    "with open(seagull_nodrops) as f:\n",
    "  sea_nodrops = pd.read_csv(f)"
   ]
  },
  {
   "cell_type": "code",
   "execution_count": 3,
   "metadata": {},
   "outputs": [
    {
     "name": "stdout",
     "output_type": "stream",
     "text": [
      "362 seagull images were removed due to bad clustering, or 0.11806914546640573 percent of the total\n",
      "2236 DGC images were removed due to bad clustering, or 0.08018648018648018 percent of the total\n"
     ]
    }
   ],
   "source": [
    "#Refined dataset statistics\n",
    "dropsea = len(ref_sea[\"filename\"].unique())\n",
    "nodropsea = len(sea_nodrops[\"filename\"].unique())\n",
    "missea = nodropsea - dropsea\n",
    "persea = missea / nodropsea\n",
    "\n",
    "print(\"%s seagull images were removed due to bad clustering, or %s percent of the total\"%(missea,persea))\n",
    "\n",
    "drop = len(ref_zoo[\"filename\"].unique())\n",
    "nodrop = len(zoo_nodrops[\"filename\"].unique())\n",
    "misszoo = nodrop - drop\n",
    "perzoo = misszoo / nodrop\n",
    "print(\"%s DGC images were removed due to bad clustering, or %s percent of the total\"%(misszoo,perzoo))\n",
    "#ref_zoo.head()\n",
    "#ref_sea[\"category_id\"].value_counts()"
   ]
  },
  {
   "cell_type": "code",
   "execution_count": 48,
   "metadata": {},
   "outputs": [
    {
     "data": {
      "text/plain": [
       "196693"
      ]
     },
     "execution_count": 48,
     "metadata": {},
     "output_type": "execute_result"
    }
   ],
   "source": [
    "missing = dgc[dgc[\"cluster_id\"] == -1]\n",
    "len(missing)\n",
    "#print(dgc['cluster_id']).value_counts()\n",
    "#print(seagull['cluster_id']).value_counts()"
   ]
  },
  {
   "cell_type": "code",
   "execution_count": 7,
   "metadata": {},
   "outputs": [
    {
     "data": {
      "text/html": [
       "<div>\n",
       "<style scoped>\n",
       "    .dataframe tbody tr th:only-of-type {\n",
       "        vertical-align: middle;\n",
       "    }\n",
       "\n",
       "    .dataframe tbody tr th {\n",
       "        vertical-align: top;\n",
       "    }\n",
       "\n",
       "    .dataframe thead th {\n",
       "        text-align: right;\n",
       "    }\n",
       "</style>\n",
       "<table border=\"1\" class=\"dataframe\">\n",
       "  <thead>\n",
       "    <tr style=\"text-align: right;\">\n",
       "      <th></th>\n",
       "      <th>Unnamed: 0</th>\n",
       "      <th>index</th>\n",
       "      <th>annotation_id</th>\n",
       "      <th>bbox_orig</th>\n",
       "      <th>cat_id_orig</th>\n",
       "      <th>cat_orig</th>\n",
       "      <th>image_id</th>\n",
       "      <th>filename</th>\n",
       "      <th>labeler_id</th>\n",
       "      <th>cluster_id</th>\n",
       "      <th>cat_id_refined</th>\n",
       "      <th>bbox_refined</th>\n",
       "      <th>cat_refined</th>\n",
       "    </tr>\n",
       "  </thead>\n",
       "  <tbody>\n",
       "    <tr>\n",
       "      <th>0</th>\n",
       "      <td>0</td>\n",
       "      <td>956322</td>\n",
       "      <td>956323</td>\n",
       "      <td>[616.8966064453125, 247.40164184570312, 78.357...</td>\n",
       "      <td>3</td>\n",
       "      <td>Duck</td>\n",
       "      <td>28077</td>\n",
       "      <td>20211201_Atrisco_0459_01_01.png</td>\n",
       "      <td>4721</td>\n",
       "      <td>0</td>\n",
       "      <td>2.0</td>\n",
       "      <td>[634.05224609375, 260.4735412597656, 49.0, 80....</td>\n",
       "      <td>Goose</td>\n",
       "    </tr>\n",
       "    <tr>\n",
       "      <th>1</th>\n",
       "      <td>1</td>\n",
       "      <td>956323</td>\n",
       "      <td>956324</td>\n",
       "      <td>[555.4261474609375, 212.951171875, 53.36450195...</td>\n",
       "      <td>3</td>\n",
       "      <td>Duck</td>\n",
       "      <td>28077</td>\n",
       "      <td>20211201_Atrisco_0459_01_01.png</td>\n",
       "      <td>4721</td>\n",
       "      <td>1</td>\n",
       "      <td>2.0</td>\n",
       "      <td>[555.4261474609375, 216.25, 53.0, 69.0]</td>\n",
       "      <td>Goose</td>\n",
       "    </tr>\n",
       "    <tr>\n",
       "      <th>2</th>\n",
       "      <td>2</td>\n",
       "      <td>956324</td>\n",
       "      <td>956325</td>\n",
       "      <td>[351.4253234863281, 212.2756805419922, 69.5764...</td>\n",
       "      <td>3</td>\n",
       "      <td>Duck</td>\n",
       "      <td>28077</td>\n",
       "      <td>20211201_Atrisco_0459_01_01.png</td>\n",
       "      <td>4721</td>\n",
       "      <td>8</td>\n",
       "      <td>2.0</td>\n",
       "      <td>[369.28125, 237.5530014038086, 61.433685302734...</td>\n",
       "      <td>Goose</td>\n",
       "    </tr>\n",
       "    <tr>\n",
       "      <th>3</th>\n",
       "      <td>3</td>\n",
       "      <td>956325</td>\n",
       "      <td>956326</td>\n",
       "      <td>[261.58392333984375, 108.92428588867188, 66.87...</td>\n",
       "      <td>3</td>\n",
       "      <td>Duck</td>\n",
       "      <td>28077</td>\n",
       "      <td>20211201_Atrisco_0459_01_01.png</td>\n",
       "      <td>4721</td>\n",
       "      <td>2</td>\n",
       "      <td>2.0</td>\n",
       "      <td>[266.75, 120.83124542236328, 60.33087158203125...</td>\n",
       "      <td>Goose</td>\n",
       "    </tr>\n",
       "    <tr>\n",
       "      <th>4</th>\n",
       "      <td>4</td>\n",
       "      <td>956326</td>\n",
       "      <td>956327</td>\n",
       "      <td>[174.44451904296875, 22.46035385131836, 61.470...</td>\n",
       "      <td>3</td>\n",
       "      <td>Duck</td>\n",
       "      <td>28077</td>\n",
       "      <td>20211201_Atrisco_0459_01_01.png</td>\n",
       "      <td>4721</td>\n",
       "      <td>3</td>\n",
       "      <td>2.0</td>\n",
       "      <td>[176.8125, 22.46035385131836, 52.0, 84.0]</td>\n",
       "      <td>Goose</td>\n",
       "    </tr>\n",
       "  </tbody>\n",
       "</table>\n",
       "</div>"
      ],
      "text/plain": [
       "   Unnamed: 0   index  annotation_id  \\\n",
       "0           0  956322         956323   \n",
       "1           1  956323         956324   \n",
       "2           2  956324         956325   \n",
       "3           3  956325         956326   \n",
       "4           4  956326         956327   \n",
       "\n",
       "                                           bbox_orig  cat_id_orig cat_orig  \\\n",
       "0  [616.8966064453125, 247.40164184570312, 78.357...            3     Duck   \n",
       "1  [555.4261474609375, 212.951171875, 53.36450195...            3     Duck   \n",
       "2  [351.4253234863281, 212.2756805419922, 69.5764...            3     Duck   \n",
       "3  [261.58392333984375, 108.92428588867188, 66.87...            3     Duck   \n",
       "4  [174.44451904296875, 22.46035385131836, 61.470...            3     Duck   \n",
       "\n",
       "   image_id                         filename  labeler_id  cluster_id  \\\n",
       "0     28077  20211201_Atrisco_0459_01_01.png        4721           0   \n",
       "1     28077  20211201_Atrisco_0459_01_01.png        4721           1   \n",
       "2     28077  20211201_Atrisco_0459_01_01.png        4721           8   \n",
       "3     28077  20211201_Atrisco_0459_01_01.png        4721           2   \n",
       "4     28077  20211201_Atrisco_0459_01_01.png        4721           3   \n",
       "\n",
       "   cat_id_refined                                       bbox_refined  \\\n",
       "0             2.0  [634.05224609375, 260.4735412597656, 49.0, 80....   \n",
       "1             2.0            [555.4261474609375, 216.25, 53.0, 69.0]   \n",
       "2             2.0  [369.28125, 237.5530014038086, 61.433685302734...   \n",
       "3             2.0  [266.75, 120.83124542236328, 60.33087158203125...   \n",
       "4             2.0          [176.8125, 22.46035385131836, 52.0, 84.0]   \n",
       "\n",
       "  cat_refined  \n",
       "0       Goose  \n",
       "1       Goose  \n",
       "2       Goose  \n",
       "3       Goose  \n",
       "4       Goose  "
      ]
     },
     "execution_count": 7,
     "metadata": {},
     "output_type": "execute_result"
    }
   ],
   "source": [
    "dgc.head()"
   ]
  },
  {
   "cell_type": "code",
   "execution_count": 52,
   "metadata": {},
   "outputs": [
    {
     "data": {
      "text/html": [
       "<div>\n",
       "<style scoped>\n",
       "    .dataframe tbody tr th:only-of-type {\n",
       "        vertical-align: middle;\n",
       "    }\n",
       "\n",
       "    .dataframe tbody tr th {\n",
       "        vertical-align: top;\n",
       "    }\n",
       "\n",
       "    .dataframe thead th {\n",
       "        text-align: right;\n",
       "    }\n",
       "</style>\n",
       "<table border=\"1\" class=\"dataframe\">\n",
       "  <thead>\n",
       "    <tr style=\"text-align: right;\">\n",
       "      <th></th>\n",
       "      <th>Unnamed: 0</th>\n",
       "      <th>filename</th>\n",
       "      <th>category_id</th>\n",
       "      <th>bbox</th>\n",
       "      <th>category</th>\n",
       "      <th>basefile</th>\n",
       "    </tr>\n",
       "  </thead>\n",
       "  <tbody>\n",
       "    <tr>\n",
       "      <th>0</th>\n",
       "      <td>1</td>\n",
       "      <td>20211201_Atrisco_0459_01_01.png</td>\n",
       "      <td>2</td>\n",
       "      <td>[634.05224609375, 260.4735412597656, 49.0, 80....</td>\n",
       "      <td>Goose</td>\n",
       "      <td>20211201_Atrisco_0459</td>\n",
       "    </tr>\n",
       "    <tr>\n",
       "      <th>1</th>\n",
       "      <td>2</td>\n",
       "      <td>20211201_Atrisco_0459_01_01.png</td>\n",
       "      <td>2</td>\n",
       "      <td>[555.4261474609375, 216.25, 53.0, 69.0]</td>\n",
       "      <td>Goose</td>\n",
       "      <td>20211201_Atrisco_0459</td>\n",
       "    </tr>\n",
       "    <tr>\n",
       "      <th>2</th>\n",
       "      <td>3</td>\n",
       "      <td>20211201_Atrisco_0459_01_01.png</td>\n",
       "      <td>2</td>\n",
       "      <td>[266.75, 120.83124542236328, 60.33087158203125...</td>\n",
       "      <td>Goose</td>\n",
       "      <td>20211201_Atrisco_0459</td>\n",
       "    </tr>\n",
       "    <tr>\n",
       "      <th>3</th>\n",
       "      <td>4</td>\n",
       "      <td>20211201_Atrisco_0459_01_01.png</td>\n",
       "      <td>2</td>\n",
       "      <td>[176.8125, 22.46035385131836, 52.0, 84.0]</td>\n",
       "      <td>Goose</td>\n",
       "      <td>20211201_Atrisco_0459</td>\n",
       "    </tr>\n",
       "    <tr>\n",
       "      <th>4</th>\n",
       "      <td>5</td>\n",
       "      <td>20211201_Atrisco_0459_01_01.png</td>\n",
       "      <td>2</td>\n",
       "      <td>[101.36946105957031, 170.06580352783203, 62.24...</td>\n",
       "      <td>Goose</td>\n",
       "      <td>20211201_Atrisco_0459</td>\n",
       "    </tr>\n",
       "  </tbody>\n",
       "</table>\n",
       "</div>"
      ],
      "text/plain": [
       "   Unnamed: 0                         filename  category_id  \\\n",
       "0           1  20211201_Atrisco_0459_01_01.png            2   \n",
       "1           2  20211201_Atrisco_0459_01_01.png            2   \n",
       "2           3  20211201_Atrisco_0459_01_01.png            2   \n",
       "3           4  20211201_Atrisco_0459_01_01.png            2   \n",
       "4           5  20211201_Atrisco_0459_01_01.png            2   \n",
       "\n",
       "                                                bbox category  \\\n",
       "0  [634.05224609375, 260.4735412597656, 49.0, 80....    Goose   \n",
       "1            [555.4261474609375, 216.25, 53.0, 69.0]    Goose   \n",
       "2  [266.75, 120.83124542236328, 60.33087158203125...    Goose   \n",
       "3          [176.8125, 22.46035385131836, 52.0, 84.0]    Goose   \n",
       "4  [101.36946105957031, 170.06580352783203, 62.24...    Goose   \n",
       "\n",
       "                basefile  \n",
       "0  20211201_Atrisco_0459  \n",
       "1  20211201_Atrisco_0459  \n",
       "2  20211201_Atrisco_0459  \n",
       "3  20211201_Atrisco_0459  \n",
       "4  20211201_Atrisco_0459  "
      ]
     },
     "execution_count": 52,
     "metadata": {},
     "output_type": "execute_result"
    }
   ],
   "source": [
    "ref_zoo[\"basefile\"] = [x[:-10] for x in ref_zoo['filename']]\n",
    "ref_zoo.head()"
   ]
  },
  {
   "cell_type": "code",
   "execution_count": 53,
   "metadata": {},
   "outputs": [
    {
     "data": {
      "text/plain": [
       "1032"
      ]
     },
     "execution_count": 53,
     "metadata": {},
     "output_type": "execute_result"
    }
   ],
   "source": [
    "len(ref_zoo[\"basefile\"].unique())"
   ]
  },
  {
   "cell_type": "code",
   "execution_count": 58,
   "metadata": {},
   "outputs": [
    {
     "data": {
      "text/plain": [
       "162"
      ]
     },
     "execution_count": 58,
     "metadata": {},
     "output_type": "execute_result"
    }
   ],
   "source": [
    "#CONSENSUS CHECK: COMPARING COUNTS BETWEEN COMMON IMAGES LABELED BY EXPERTS AND THE CROWD\n",
    "\n",
    "#Directory of original filenames for expert labeled images-- currently only found 1, need to match the other 11 tomorrow\n",
    "imgpath = r\"/Users/rowanconverse/Library/CloudStorage/OneDrive-UniversityofNewMexico/CV4Ecology/Prototyping/Data/Imagery/USFWS/raw/original_filenames\"\n",
    "imglist = os.listdir(imgpath)\n",
    "imglist = [s.strip('.JPG') for s in imglist]\n",
    "\n",
    "#filter the refined labels to only those that match the expert list\n",
    "# expertmatch = ref_zoo[ref_zoo[\"basefile\"] in imglist]\n",
    "expertmatch = ref_zoo[ref_zoo[\"basefile\"] == \"BDA_18a4_20181106_2_00298\"]\n",
    "len(expertmatch)\n",
    "# #Group the expert labels by filename and count the number of boxes per image\n",
    "# expertmatch.groupby(\"filename\")[\"bbox\"].count().reset_index()\n",
    "\n",
    "# #join to cluster check table (count of expert clusters)\n",
    "# countpath = \"/Users/rowanconverse/Library/CloudStorage/OneDrive-UniversityofNewMexico/Dissertation/1_Chapter/consensus/data/clustercheck.csv\"\n",
    "# with open(countpath) as f:\n",
    "#   count = pd.read_csv(f)\n",
    "# compare = pd.merge(expertmatch,count, left_on=\"filename\", right_on=\"filename\")\n",
    "\n",
    "# #difference between absolute counts \n",
    "# compare[\"diff\"] = compare[\"count\"] - compare[\"cluster_id\"]\n",
    "# # % percent diff between counts\n",
    "# compare[\"percent\"] = compare[\"diff\"]/compare[\"cluster_id\"]\n",
    "\n"
   ]
  },
  {
   "cell_type": "code",
   "execution_count": 76,
   "metadata": {},
   "outputs": [
    {
     "data": {
      "text/plain": [
       "5503"
      ]
     },
     "execution_count": 76,
     "metadata": {},
     "output_type": "execute_result"
    }
   ],
   "source": [
    "len(dgc[\"labeler_id\"].unique())"
   ]
  },
  {
   "cell_type": "code",
   "execution_count": 78,
   "metadata": {},
   "outputs": [
    {
     "data": {
      "text/plain": [
       "18"
      ]
     },
     "execution_count": 78,
     "metadata": {},
     "output_type": "execute_result"
    }
   ],
   "source": [
    "dgc[\"basefile\"] = [x[:-10] for x in dgc['filename']]\n",
    "sub = dgc[dgc[\"basefile\"] == \"BDA_18a4_20181106_2_00298\"]\n",
    "len(sub[\"cluster_id\"].value_counts())\n"
   ]
  },
  {
   "cell_type": "code",
   "execution_count": 4,
   "metadata": {},
   "outputs": [
    {
     "name": "stderr",
     "output_type": "stream",
     "text": [
      "/var/folders/21/q9_tvtjj53n6mfprd_174cz00000gn/T/ipykernel_23186/3532301414.py:2: FutureWarning: Indexing with multiple keys (implicitly converted to a tuple of keys) will be deprecated, use a list instead.\n",
      "  clusters = dgc.groupby(\"filename\")[\"bbox_orig\",\"cluster_id\",\"labeler_id\"].nunique()\n"
     ]
    }
   ],
   "source": [
    "#Search for images that have an unexpected number of clusters-- see how many there are \n",
    "clusters = dgc.groupby(\"filename\")[\"bbox_orig\",\"cluster_id\",\"labeler_id\"].nunique()\n",
    "c = clusters.reset_index()\n",
    "c[\"expected\"] = c[\"bbox_orig\"]/c[\"labeler_id\"]\n",
    "c[\"diff\"] = c[\"cluster_id\"]/c[\"expected\"]"
   ]
  },
  {
   "cell_type": "code",
   "execution_count": 5,
   "metadata": {},
   "outputs": [
    {
     "name": "stdout",
     "output_type": "stream",
     "text": [
      "0.06892594584902277\n",
      "0.654688900842747\n"
     ]
    }
   ],
   "source": [
    "more = pd.eval(\"c['diff'] > 1.1\").sum()\n",
    "less = pd.eval(\"c['diff'] < 0.9\").sum()\n",
    "total = len(dgc[\"filename\"].unique())\n",
    "print(less/total)\n",
    "print(more/total)\n"
   ]
  },
  {
   "cell_type": "code",
   "execution_count": 6,
   "metadata": {},
   "outputs": [
    {
     "name": "stdout",
     "output_type": "stream",
     "text": [
      "(0.015625, 2.2295081967213113)\n",
      "0.3394791955047448\n",
      "0.11524612418054876\n"
     ]
    }
   ],
   "source": [
    "def minmax(val_list):\n",
    "    min_val = min(val_list)\n",
    "    max_val = max(val_list)\n",
    "\n",
    "    return (min_val, max_val)\n",
    "\n",
    "print(minmax(c[\"diff\"]))\n",
    "print(c[\"diff\"].std())\n",
    "print(c[\"diff\"].var())"
   ]
  },
  {
   "cell_type": "code",
   "execution_count": 18,
   "metadata": {},
   "outputs": [
    {
     "name": "stdout",
     "output_type": "stream",
     "text": [
      "(1, 112568)\n",
      "1993.1388053337373\n",
      "3972602.297327197\n",
      "0    1\n",
      "Name: bbox_orig, dtype: int64\n"
     ]
    }
   ],
   "source": [
    "#TOMORROW: Group by filename, labeler-- count the number of original bounding boxes per labeler, get range/variance\n",
    "range = dgc.groupby(\"labeler_id\")[\"bbox_orig\"].count()\n",
    "print(minmax(range))\n",
    "print(range.std())\n",
    "print(range.var())\n",
    "print(range.mode())\n",
    "\n"
   ]
  },
  {
   "cell_type": "code",
   "execution_count": 4,
   "metadata": {},
   "outputs": [
    {
     "data": {
      "text/html": [
       "<div>\n",
       "<style scoped>\n",
       "    .dataframe tbody tr th:only-of-type {\n",
       "        vertical-align: middle;\n",
       "    }\n",
       "\n",
       "    .dataframe tbody tr th {\n",
       "        vertical-align: top;\n",
       "    }\n",
       "\n",
       "    .dataframe thead th {\n",
       "        text-align: right;\n",
       "    }\n",
       "</style>\n",
       "<table border=\"1\" class=\"dataframe\">\n",
       "  <thead>\n",
       "    <tr style=\"text-align: right;\">\n",
       "      <th></th>\n",
       "      <th>Unnamed: 0</th>\n",
       "      <th>index</th>\n",
       "      <th>annotation_id</th>\n",
       "      <th>bbox_orig</th>\n",
       "      <th>cat_id_orig</th>\n",
       "      <th>category</th>\n",
       "      <th>image_id</th>\n",
       "      <th>filename</th>\n",
       "      <th>labeler_id</th>\n",
       "      <th>cluster_id</th>\n",
       "      <th>cat_id_refined</th>\n",
       "      <th>bbox_refined</th>\n",
       "      <th>agree</th>\n",
       "    </tr>\n",
       "  </thead>\n",
       "  <tbody>\n",
       "    <tr>\n",
       "      <th>0</th>\n",
       "      <td>0</td>\n",
       "      <td>956322</td>\n",
       "      <td>956323</td>\n",
       "      <td>[616.8966064453125, 247.40164184570312, 78.357...</td>\n",
       "      <td>3</td>\n",
       "      <td>Duck</td>\n",
       "      <td>28077</td>\n",
       "      <td>20211201_Atrisco_0459_01_01.png</td>\n",
       "      <td>4721</td>\n",
       "      <td>0</td>\n",
       "      <td>2</td>\n",
       "      <td>[634.05224609375, 260.4735412597656, 49.0, 80....</td>\n",
       "      <td>No</td>\n",
       "    </tr>\n",
       "    <tr>\n",
       "      <th>1</th>\n",
       "      <td>1</td>\n",
       "      <td>956323</td>\n",
       "      <td>956324</td>\n",
       "      <td>[555.4261474609375, 212.951171875, 53.36450195...</td>\n",
       "      <td>3</td>\n",
       "      <td>Duck</td>\n",
       "      <td>28077</td>\n",
       "      <td>20211201_Atrisco_0459_01_01.png</td>\n",
       "      <td>4721</td>\n",
       "      <td>1</td>\n",
       "      <td>2</td>\n",
       "      <td>[555.4261474609375, 216.25, 53.0, 69.0]</td>\n",
       "      <td>No</td>\n",
       "    </tr>\n",
       "    <tr>\n",
       "      <th>2</th>\n",
       "      <td>2</td>\n",
       "      <td>956324</td>\n",
       "      <td>956325</td>\n",
       "      <td>[351.4253234863281, 212.2756805419922, 69.5764...</td>\n",
       "      <td>3</td>\n",
       "      <td>Duck</td>\n",
       "      <td>28077</td>\n",
       "      <td>20211201_Atrisco_0459_01_01.png</td>\n",
       "      <td>4721</td>\n",
       "      <td>8</td>\n",
       "      <td>2</td>\n",
       "      <td>[369.28125, 237.5530014038086, 61.433685302734...</td>\n",
       "      <td>No</td>\n",
       "    </tr>\n",
       "    <tr>\n",
       "      <th>3</th>\n",
       "      <td>3</td>\n",
       "      <td>956325</td>\n",
       "      <td>956326</td>\n",
       "      <td>[261.58392333984375, 108.92428588867188, 66.87...</td>\n",
       "      <td>3</td>\n",
       "      <td>Duck</td>\n",
       "      <td>28077</td>\n",
       "      <td>20211201_Atrisco_0459_01_01.png</td>\n",
       "      <td>4721</td>\n",
       "      <td>2</td>\n",
       "      <td>2</td>\n",
       "      <td>[266.75, 120.83124542236328, 60.33087158203125...</td>\n",
       "      <td>No</td>\n",
       "    </tr>\n",
       "    <tr>\n",
       "      <th>4</th>\n",
       "      <td>4</td>\n",
       "      <td>956326</td>\n",
       "      <td>956327</td>\n",
       "      <td>[174.44451904296875, 22.46035385131836, 61.470...</td>\n",
       "      <td>3</td>\n",
       "      <td>Duck</td>\n",
       "      <td>28077</td>\n",
       "      <td>20211201_Atrisco_0459_01_01.png</td>\n",
       "      <td>4721</td>\n",
       "      <td>3</td>\n",
       "      <td>2</td>\n",
       "      <td>[176.8125, 22.46035385131836, 52.0, 84.0]</td>\n",
       "      <td>No</td>\n",
       "    </tr>\n",
       "  </tbody>\n",
       "</table>\n",
       "</div>"
      ],
      "text/plain": [
       "   Unnamed: 0   index  annotation_id  \\\n",
       "0           0  956322         956323   \n",
       "1           1  956323         956324   \n",
       "2           2  956324         956325   \n",
       "3           3  956325         956326   \n",
       "4           4  956326         956327   \n",
       "\n",
       "                                           bbox_orig  cat_id_orig category  \\\n",
       "0  [616.8966064453125, 247.40164184570312, 78.357...            3     Duck   \n",
       "1  [555.4261474609375, 212.951171875, 53.36450195...            3     Duck   \n",
       "2  [351.4253234863281, 212.2756805419922, 69.5764...            3     Duck   \n",
       "3  [261.58392333984375, 108.92428588867188, 66.87...            3     Duck   \n",
       "4  [174.44451904296875, 22.46035385131836, 61.470...            3     Duck   \n",
       "\n",
       "   image_id                         filename  labeler_id  cluster_id  \\\n",
       "0     28077  20211201_Atrisco_0459_01_01.png        4721           0   \n",
       "1     28077  20211201_Atrisco_0459_01_01.png        4721           1   \n",
       "2     28077  20211201_Atrisco_0459_01_01.png        4721           8   \n",
       "3     28077  20211201_Atrisco_0459_01_01.png        4721           2   \n",
       "4     28077  20211201_Atrisco_0459_01_01.png        4721           3   \n",
       "\n",
       "  cat_id_refined                                       bbox_refined agree  \n",
       "0              2  [634.05224609375, 260.4735412597656, 49.0, 80....    No  \n",
       "1              2            [555.4261474609375, 216.25, 53.0, 69.0]    No  \n",
       "2              2  [369.28125, 237.5530014038086, 61.433685302734...    No  \n",
       "3              2  [266.75, 120.83124542236328, 60.33087158203125...    No  \n",
       "4              2          [176.8125, 22.46035385131836, 52.0, 84.0]    No  "
      ]
     },
     "execution_count": 4,
     "metadata": {},
     "output_type": "execute_result"
    }
   ],
   "source": [
    "dgc.head()"
   ]
  },
  {
   "cell_type": "code",
   "execution_count": 16,
   "metadata": {},
   "outputs": [],
   "source": [
    "#INDIVIDUAL LABELER METRICS\n",
    "#Goal: report avg count, ID consensus across images, break down by morphological group; also min/max individual vs group consensus\n",
    "#Positional error: create confusion matrix, report commission error, omission error, RMSE, MAE -- bounding boxes, comparing each labeler to the consensus\n",
    "\n",
    "dgc['agree'] = 'No'\n",
    "dgc.loc[dgc['cat_id_orig'] == dgc[\"cat_id_refined\"], 'agree'] = 'Yes'\n",
    "avg_agree = dgc.groupby(\"labeler_id\")[\"agree\"].value_counts().reset_index"
   ]
  },
  {
   "cell_type": "code",
   "execution_count": 18,
   "metadata": {},
   "outputs": [
    {
     "data": {
      "text/plain": [
       "0"
      ]
     },
     "execution_count": 18,
     "metadata": {},
     "output_type": "execute_result"
    }
   ],
   "source": [
    "subset = dgc[dgc[\"cat_id_orig\"] == dgc[\"cat_id_refined\"]]\n",
    "len(subset)"
   ]
  },
  {
   "cell_type": "code",
   "execution_count": 24,
   "metadata": {},
   "outputs": [
    {
     "ename": "ValueError",
     "evalue": "Length of values (1) does not match length of index (1192469)",
     "output_type": "error",
     "traceback": [
      "\u001b[0;31m---------------------------------------------------------------------------\u001b[0m",
      "\u001b[0;31mValueError\u001b[0m                                Traceback (most recent call last)",
      "\u001b[1;32m/Users/rowanconverse/Library/CloudStorage/OneDrive-UniversityofNewMexico/Dissertation/1_Chapter/consensus/scripts/label-consensus-analysis/crowdconsensus.ipynb Cell 19\u001b[0m in \u001b[0;36m<cell line: 1>\u001b[0;34m()\u001b[0m\n\u001b[0;32m----> <a href='vscode-notebook-cell:/Users/rowanconverse/Library/CloudStorage/OneDrive-UniversityofNewMexico/Dissertation/1_Chapter/consensus/scripts/label-consensus-analysis/crowdconsensus.ipynb#X26sZmlsZQ%3D%3D?line=0'>1</a>\u001b[0m dgc[\u001b[39m'\u001b[39m\u001b[39magree1\u001b[39m\u001b[39m'\u001b[39m] \u001b[39m=\u001b[39m np\u001b[39m.\u001b[39mwhere((dgc[\u001b[39m'\u001b[39m\u001b[39mcat_id_orig\u001b[39m\u001b[39m'\u001b[39m] \u001b[39m==\u001b[39m dgc[\u001b[39m'\u001b[39m\u001b[39mcat_id_refined\u001b[39m\u001b[39m'\u001b[39m]))\n\u001b[1;32m      <a href='vscode-notebook-cell:/Users/rowanconverse/Library/CloudStorage/OneDrive-UniversityofNewMexico/Dissertation/1_Chapter/consensus/scripts/label-consensus-analysis/crowdconsensus.ipynb#X26sZmlsZQ%3D%3D?line=1'>2</a>\u001b[0m dgc[\u001b[39m'\u001b[39m\u001b[39magree1\u001b[39m\u001b[39m'\u001b[39m]\u001b[39m.\u001b[39mvalue_counts()\n",
      "File \u001b[0;32m~/miniconda3/envs/dronesforducks/lib/python3.8/site-packages/pandas/core/frame.py:3655\u001b[0m, in \u001b[0;36mDataFrame.__setitem__\u001b[0;34m(self, key, value)\u001b[0m\n\u001b[1;32m   3652\u001b[0m     \u001b[39mself\u001b[39m\u001b[39m.\u001b[39m_setitem_array([key], value)\n\u001b[1;32m   3653\u001b[0m \u001b[39melse\u001b[39;00m:\n\u001b[1;32m   3654\u001b[0m     \u001b[39m# set column\u001b[39;00m\n\u001b[0;32m-> 3655\u001b[0m     \u001b[39mself\u001b[39;49m\u001b[39m.\u001b[39;49m_set_item(key, value)\n",
      "File \u001b[0;32m~/miniconda3/envs/dronesforducks/lib/python3.8/site-packages/pandas/core/frame.py:3832\u001b[0m, in \u001b[0;36mDataFrame._set_item\u001b[0;34m(self, key, value)\u001b[0m\n\u001b[1;32m   3822\u001b[0m \u001b[39mdef\u001b[39;00m \u001b[39m_set_item\u001b[39m(\u001b[39mself\u001b[39m, key, value) \u001b[39m-\u001b[39m\u001b[39m>\u001b[39m \u001b[39mNone\u001b[39;00m:\n\u001b[1;32m   3823\u001b[0m     \u001b[39m\"\"\"\u001b[39;00m\n\u001b[1;32m   3824\u001b[0m \u001b[39m    Add series to DataFrame in specified column.\u001b[39;00m\n\u001b[1;32m   3825\u001b[0m \n\u001b[0;32m   (...)\u001b[0m\n\u001b[1;32m   3830\u001b[0m \u001b[39m    ensure homogeneity.\u001b[39;00m\n\u001b[1;32m   3831\u001b[0m \u001b[39m    \"\"\"\u001b[39;00m\n\u001b[0;32m-> 3832\u001b[0m     value \u001b[39m=\u001b[39m \u001b[39mself\u001b[39;49m\u001b[39m.\u001b[39;49m_sanitize_column(value)\n\u001b[1;32m   3834\u001b[0m     \u001b[39mif\u001b[39;00m (\n\u001b[1;32m   3835\u001b[0m         key \u001b[39min\u001b[39;00m \u001b[39mself\u001b[39m\u001b[39m.\u001b[39mcolumns\n\u001b[1;32m   3836\u001b[0m         \u001b[39mand\u001b[39;00m value\u001b[39m.\u001b[39mndim \u001b[39m==\u001b[39m \u001b[39m1\u001b[39m\n\u001b[1;32m   3837\u001b[0m         \u001b[39mand\u001b[39;00m \u001b[39mnot\u001b[39;00m is_extension_array_dtype(value)\n\u001b[1;32m   3838\u001b[0m     ):\n\u001b[1;32m   3839\u001b[0m         \u001b[39m# broadcast across multiple columns if necessary\u001b[39;00m\n\u001b[1;32m   3840\u001b[0m         \u001b[39mif\u001b[39;00m \u001b[39mnot\u001b[39;00m \u001b[39mself\u001b[39m\u001b[39m.\u001b[39mcolumns\u001b[39m.\u001b[39mis_unique \u001b[39mor\u001b[39;00m \u001b[39misinstance\u001b[39m(\u001b[39mself\u001b[39m\u001b[39m.\u001b[39mcolumns, MultiIndex):\n",
      "File \u001b[0;32m~/miniconda3/envs/dronesforducks/lib/python3.8/site-packages/pandas/core/frame.py:4535\u001b[0m, in \u001b[0;36mDataFrame._sanitize_column\u001b[0;34m(self, value)\u001b[0m\n\u001b[1;32m   4532\u001b[0m     \u001b[39mreturn\u001b[39;00m _reindex_for_setitem(value, \u001b[39mself\u001b[39m\u001b[39m.\u001b[39mindex)\n\u001b[1;32m   4534\u001b[0m \u001b[39mif\u001b[39;00m is_list_like(value):\n\u001b[0;32m-> 4535\u001b[0m     com\u001b[39m.\u001b[39;49mrequire_length_match(value, \u001b[39mself\u001b[39;49m\u001b[39m.\u001b[39;49mindex)\n\u001b[1;32m   4536\u001b[0m \u001b[39mreturn\u001b[39;00m sanitize_array(value, \u001b[39mself\u001b[39m\u001b[39m.\u001b[39mindex, copy\u001b[39m=\u001b[39m\u001b[39mTrue\u001b[39;00m, allow_2d\u001b[39m=\u001b[39m\u001b[39mTrue\u001b[39;00m)\n",
      "File \u001b[0;32m~/miniconda3/envs/dronesforducks/lib/python3.8/site-packages/pandas/core/common.py:557\u001b[0m, in \u001b[0;36mrequire_length_match\u001b[0;34m(data, index)\u001b[0m\n\u001b[1;32m    553\u001b[0m \u001b[39m\"\"\"\u001b[39;00m\n\u001b[1;32m    554\u001b[0m \u001b[39mCheck the length of data matches the length of the index.\u001b[39;00m\n\u001b[1;32m    555\u001b[0m \u001b[39m\"\"\"\u001b[39;00m\n\u001b[1;32m    556\u001b[0m \u001b[39mif\u001b[39;00m \u001b[39mlen\u001b[39m(data) \u001b[39m!=\u001b[39m \u001b[39mlen\u001b[39m(index):\n\u001b[0;32m--> 557\u001b[0m     \u001b[39mraise\u001b[39;00m \u001b[39mValueError\u001b[39;00m(\n\u001b[1;32m    558\u001b[0m         \u001b[39m\"\u001b[39m\u001b[39mLength of values \u001b[39m\u001b[39m\"\u001b[39m\n\u001b[1;32m    559\u001b[0m         \u001b[39mf\u001b[39m\u001b[39m\"\u001b[39m\u001b[39m(\u001b[39m\u001b[39m{\u001b[39;00m\u001b[39mlen\u001b[39m(data)\u001b[39m}\u001b[39;00m\u001b[39m) \u001b[39m\u001b[39m\"\u001b[39m\n\u001b[1;32m    560\u001b[0m         \u001b[39m\"\u001b[39m\u001b[39mdoes not match length of index \u001b[39m\u001b[39m\"\u001b[39m\n\u001b[1;32m    561\u001b[0m         \u001b[39mf\u001b[39m\u001b[39m\"\u001b[39m\u001b[39m(\u001b[39m\u001b[39m{\u001b[39;00m\u001b[39mlen\u001b[39m(index)\u001b[39m}\u001b[39;00m\u001b[39m)\u001b[39m\u001b[39m\"\u001b[39m\n\u001b[1;32m    562\u001b[0m     )\n",
      "\u001b[0;31mValueError\u001b[0m: Length of values (1) does not match length of index (1192469)"
     ]
    }
   ],
   "source": [
    "dgc['agree1'] = np.where((dgc['cat_id_orig'] == dgc['cat_id_refined']))\n",
    "dgc['agree1'].value_counts()"
   ]
  },
  {
   "cell_type": "code",
   "execution_count": null,
   "metadata": {},
   "outputs": [],
   "source": [
    "#OUTPUTS\n",
    "\n",
    "#Line graph of average identification consensus across all images (y; % agreement) by individual (x). One for expert, one for crowdsourced.  \n",
    "#Bar graph of consensus (y; % agreement) by morphology (x; duck/goose/crane). Two bars per class, one for expert, one for crowdsourced\n",
    "#Line graph of average count consensus across all images (y; % agreement) by individual (x). One for expert, one for crowdsourced.  \n",
    "#Line graph of consensus (y; % agreement) by density (x; consensus # of individuals per image). One line for expert, one line for crowdsourced.\n"
   ]
  }
 ],
 "metadata": {
  "kernelspec": {
   "display_name": "dronesforducks",
   "language": "python",
   "name": "python3"
  },
  "language_info": {
   "codemirror_mode": {
    "name": "ipython",
    "version": 3
   },
   "file_extension": ".py",
   "mimetype": "text/x-python",
   "name": "python",
   "nbconvert_exporter": "python",
   "pygments_lexer": "ipython3",
   "version": "3.8.13"
  },
  "orig_nbformat": 4
 },
 "nbformat": 4,
 "nbformat_minor": 2
}
