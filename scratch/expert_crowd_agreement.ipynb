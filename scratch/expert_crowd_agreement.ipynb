{
 "cells": [
  {
   "cell_type": "code",
   "execution_count": 1,
   "metadata": {},
   "outputs": [],
   "source": [
    "import csv\n",
    "from collections import defaultdict\n",
    "import numpy as np\n",
    "import matplotlib.pyplot as plt\n",
    "import seaborn as sns\n",
    "from shapely.geometry import box"
   ]
  },
  {
   "cell_type": "code",
   "execution_count": 2,
   "metadata": {},
   "outputs": [],
   "source": [
    "#Load the labels from the two files\n",
    "\n",
    "labels_file1 = '/Users/rowanconverse/Library/CloudStorage/OneDrive-UniversityofNewMexico/Dissertation/1_Chapter/consensus/data/clean_crowd_benchmark.csv'\n",
    "labels_file2 = '/Users/rowanconverse/Library/CloudStorage/OneDrive-UniversityofNewMexico/Dissertation/1_Chapter/consensus/data/expert/expertconsensus_superclass.csv'"
   ]
  },
  {
   "cell_type": "code",
   "execution_count": 3,
   "metadata": {},
   "outputs": [],
   "source": [
    "# Define the IOU threshold and read in the labels\n",
    "iou_thresh = 0.5\n",
    "\n",
    "# Define dictionaries to map class IDs to class names\n",
    "class_map1 = {1: 'Crane', 2: 'Goose', 3: 'Duck'}\n",
    "class_map2 = {1: 'Crane', 2: 'Goose', 3: 'Duck'}\n",
    "\n",
    "# Read in the labels from file 1\n",
    "labels1 = defaultdict(list)\n",
    "with open(labels_file1) as csvfile:\n",
    "    reader = csv.reader(csvfile)\n",
    "    next(reader)  # skip header\n",
    "    for row in reader:\n",
    "        label_id, filename, bbox, class_id = row\n",
    "        bbox = [float(x) for x in bbox[1:-1].split(',')]\n",
    "        labels1[filename].append((label_id, bbox, int(class_id)))\n",
    "\n",
    "# Read in the labels from file 2\n",
    "labels2 = defaultdict(list)\n",
    "with open(labels_file2) as csvfile:\n",
    "    reader = csv.reader(csvfile)\n",
    "    next(reader)  # skip header\n",
    "    for row in reader:\n",
    "        label_id, filename, bbox, class_id = row\n",
    "        bbox = [float(x) for x in bbox[1:-1].split(',')]\n",
    "        labels2[filename].append((label_id, bbox, int(class_id)))"
   ]
  },
  {
   "cell_type": "code",
   "execution_count": 21,
   "metadata": {},
   "outputs": [],
   "source": [
    "for filename in labels2.keys():\n",
    "    if filename.endswith('.JPG'):\n",
    "        new_filename = filename[:-4]  # remove the last 4 characters (i.e., \".jpg\")\n",
    "        labels2[new_filename] = labels2.pop(filename)"
   ]
  },
  {
   "cell_type": "code",
   "execution_count": 30,
   "metadata": {},
   "outputs": [
    {
     "ename": "TypeError",
     "evalue": "unhashable type: 'list'",
     "output_type": "error",
     "traceback": [
      "\u001b[0;31m---------------------------------------------------------------------------\u001b[0m",
      "\u001b[0;31mTypeError\u001b[0m                                 Traceback (most recent call last)",
      "\u001b[1;32m/Users/rowanconverse/Library/CloudStorage/OneDrive-UniversityofNewMexico/Dissertation/1_Chapter/consensus/scripts/label-consensus-analysis/expert_crowd_agreement.ipynb Cell 5\u001b[0m in \u001b[0;36m<cell line: 52>\u001b[0;34m()\u001b[0m\n\u001b[1;32m     <a href='vscode-notebook-cell:/Users/rowanconverse/Library/CloudStorage/OneDrive-UniversityofNewMexico/Dissertation/1_Chapter/consensus/scripts/label-consensus-analysis/expert_crowd_agreement.ipynb#X12sZmlsZQ%3D%3D?line=47'>48</a>\u001b[0m                     conf_matrix[class1 \u001b[39m-\u001b[39m \u001b[39m1\u001b[39m, class2 \u001b[39m-\u001b[39m \u001b[39m1\u001b[39m] \u001b[39m+\u001b[39m\u001b[39m=\u001b[39m \u001b[39m1\u001b[39m\n\u001b[1;32m     <a href='vscode-notebook-cell:/Users/rowanconverse/Library/CloudStorage/OneDrive-UniversityofNewMexico/Dissertation/1_Chapter/consensus/scripts/label-consensus-analysis/expert_crowd_agreement.ipynb#X12sZmlsZQ%3D%3D?line=49'>50</a>\u001b[0m     \u001b[39mreturn\u001b[39;00m conf_matrix\n\u001b[0;32m---> <a href='vscode-notebook-cell:/Users/rowanconverse/Library/CloudStorage/OneDrive-UniversityofNewMexico/Dissertation/1_Chapter/consensus/scripts/label-consensus-analysis/expert_crowd_agreement.ipynb#X12sZmlsZQ%3D%3D?line=51'>52</a>\u001b[0m confusion_matrix(labels1,labels1,iou_threshold\u001b[39m=\u001b[39;49m\u001b[39m0.5\u001b[39;49m)\n",
      "\u001b[1;32m/Users/rowanconverse/Library/CloudStorage/OneDrive-UniversityofNewMexico/Dissertation/1_Chapter/consensus/scripts/label-consensus-analysis/expert_crowd_agreement.ipynb Cell 5\u001b[0m in \u001b[0;36mconfusion_matrix\u001b[0;34m(labels1, labels2, iou_threshold)\u001b[0m\n\u001b[1;32m     <a href='vscode-notebook-cell:/Users/rowanconverse/Library/CloudStorage/OneDrive-UniversityofNewMexico/Dissertation/1_Chapter/consensus/scripts/label-consensus-analysis/expert_crowd_agreement.ipynb#X12sZmlsZQ%3D%3D?line=27'>28</a>\u001b[0m \u001b[39mdef\u001b[39;00m \u001b[39mconfusion_matrix\u001b[39m(labels1, labels2, iou_threshold\u001b[39m=\u001b[39m\u001b[39m0.5\u001b[39m):\n\u001b[1;32m     <a href='vscode-notebook-cell:/Users/rowanconverse/Library/CloudStorage/OneDrive-UniversityofNewMexico/Dissertation/1_Chapter/consensus/scripts/label-consensus-analysis/expert_crowd_agreement.ipynb#X12sZmlsZQ%3D%3D?line=28'>29</a>\u001b[0m     \u001b[39m# initialize confusion matrix\u001b[39;00m\n\u001b[0;32m---> <a href='vscode-notebook-cell:/Users/rowanconverse/Library/CloudStorage/OneDrive-UniversityofNewMexico/Dissertation/1_Chapter/consensus/scripts/label-consensus-analysis/expert_crowd_agreement.ipynb#X12sZmlsZQ%3D%3D?line=29'>30</a>\u001b[0m     num_classes \u001b[39m=\u001b[39m \u001b[39mmax\u001b[39m(\u001b[39mset\u001b[39;49m(labels1[label][\u001b[39m3\u001b[39;49m] \u001b[39mfor\u001b[39;49;00m label \u001b[39min\u001b[39;49;00m labels1) \u001b[39m|\u001b[39m \u001b[39mset\u001b[39m(labels2[label][\u001b[39m3\u001b[39m] \u001b[39mfor\u001b[39;00m label \u001b[39min\u001b[39;00m labels2))\n\u001b[1;32m     <a href='vscode-notebook-cell:/Users/rowanconverse/Library/CloudStorage/OneDrive-UniversityofNewMexico/Dissertation/1_Chapter/consensus/scripts/label-consensus-analysis/expert_crowd_agreement.ipynb#X12sZmlsZQ%3D%3D?line=30'>31</a>\u001b[0m     conf_matrix \u001b[39m=\u001b[39m np\u001b[39m.\u001b[39mzeros((num_classes, num_classes), dtype\u001b[39m=\u001b[39m\u001b[39mint\u001b[39m)\n\u001b[1;32m     <a href='vscode-notebook-cell:/Users/rowanconverse/Library/CloudStorage/OneDrive-UniversityofNewMexico/Dissertation/1_Chapter/consensus/scripts/label-consensus-analysis/expert_crowd_agreement.ipynb#X12sZmlsZQ%3D%3D?line=32'>33</a>\u001b[0m     \u001b[39m# create dictionaries to map image filenames to their labels\u001b[39;00m\n",
      "\u001b[0;31mTypeError\u001b[0m: unhashable type: 'list'"
     ]
    }
   ],
   "source": [
    "def iou(box1, box2):\n",
    "    \n",
    "    x1, y1, w1, h1 = box1\n",
    "    x2, y2, w2, h2 = box2\n",
    "\n",
    "    # calculate coordinates of intersection rectangle\n",
    "    x_left = max(x1, x2)\n",
    "    y_top = max(y1, y2)\n",
    "    x_right = min(x1 + w1, x2 + w2)\n",
    "    y_bottom = min(y1 + h1, y2 + h2)\n",
    "\n",
    "    if x_right < x_left or y_bottom < y_top:\n",
    "        return 0.0\n",
    "\n",
    "    # calculate area of intersection rectangle\n",
    "    intersection_area = (x_right - x_left) * (y_bottom - y_top)\n",
    "\n",
    "    # calculate area of union rectangle\n",
    "    box1_area = w1 * h1\n",
    "    box2_area = w2 * h2\n",
    "    union_area = box1_area + box2_area - intersection_area\n",
    "\n",
    "    # calculate IoU\n",
    "    iou = intersection_area / union_area\n",
    "\n",
    "    return iou\n",
    "\n",
    "def confusion_matrix(labels1, labels2, iou_threshold=0.5):\n",
    "    # initialize confusion matrix\n",
    "    num_classes = max(set(labels1[label][3] for label in labels1) | set(labels2[label][3] for label in labels2))\n",
    "    conf_matrix = np.zeros((num_classes, num_classes), dtype=int)\n",
    "\n",
    "    # create dictionaries to map image filenames to their labels\n",
    "    img_labels1 = defaultdict(list)\n",
    "    for label, filename, bbox, class_id in labels1.values():\n",
    "        img_labels1[filename].append((label, bbox, class_id))\n",
    "\n",
    "    img_labels2 = defaultdict(list)\n",
    "    for label, filename, bbox, class_id in labels2.values():\n",
    "        img_labels2[filename].append((label, bbox, class_id))\n",
    "\n",
    "    # iterate over images and compare labels\n",
    "    for filename in set(img_labels1.keys()) & set(img_labels2.keys()):\n",
    "        for label1, bbox1, class1 in img_labels1[filename]:\n",
    "            for label2, bbox2, class2 in img_labels2[filename]:\n",
    "                # check if the boxes have enough overlap and if the classes match\n",
    "                if iou(bbox1, bbox2) >= iou_threshold and class1 == class2:\n",
    "                    conf_matrix[class1 - 1, class2 - 1] += 1\n",
    "\n",
    "    return conf_matrix"
   ]
  },
  {
   "cell_type": "code",
   "execution_count": 32,
   "metadata": {},
   "outputs": [],
   "source": [
    "# Compute the confusion matrix\n",
    "conf_matrix = np.zeros((len(class_map1), len(class_map2)), dtype=int)\n",
    "for filename in set(labels1.keys()) & set(labels2.keys()):\n",
    "    if filename in labels1 and filename in labels2:\n",
    "        for label1 in labels1[filename]:\n",
    "            for label2 in labels2[filename]:\n",
    "                bbox1 = box(*label1[1])\n",
    "                bbox2 = box(*label2[1])\n",
    "                iou = bbox1.intersection(bbox2).area / bbox1.union(bbox2).area\n",
    "                if iou >= iou_thresh: #and label1[2] == label2[2]:\n",
    "                    #print(f'label1: {label1}, label2: {label2}, iou: {iou}')\n",
    "                    conf_matrix[label1[2] - 1, label2[2] - 1] += 1"
   ]
  },
  {
   "cell_type": "code",
   "execution_count": 29,
   "metadata": {},
   "outputs": [
    {
     "name": "stdout",
     "output_type": "stream",
     "text": [
      "Confusion Matrix:\n",
      "[[    91      0      0]\n",
      " [     0   1865      0]\n",
      " [     0      0 270350]]\n"
     ]
    }
   ],
   "source": [
    "# Print the confusion matrix\n",
    "print('Confusion Matrix:')\n",
    "print(conf_matrix)"
   ]
  },
  {
   "cell_type": "code",
   "execution_count": 34,
   "metadata": {},
   "outputs": [
    {
     "ename": "ValueError",
     "evalue": "'2' is not in list",
     "output_type": "error",
     "traceback": [
      "\u001b[0;31m---------------------------------------------------------------------------\u001b[0m",
      "\u001b[0;31mValueError\u001b[0m                                Traceback (most recent call last)",
      "\u001b[1;32m/Users/rowanconverse/Library/CloudStorage/OneDrive-UniversityofNewMexico/Dissertation/1_Chapter/consensus/scripts/label-consensus-analysis/expert_crowd_agreement.ipynb Cell 8\u001b[0m in \u001b[0;36m<cell line: 52>\u001b[0;34m()\u001b[0m\n\u001b[1;32m     <a href='vscode-notebook-cell:/Users/rowanconverse/Library/CloudStorage/OneDrive-UniversityofNewMexico/Dissertation/1_Chapter/consensus/scripts/label-consensus-analysis/expert_crowd_agreement.ipynb#X13sZmlsZQ%3D%3D?line=49'>50</a>\u001b[0m labels1 \u001b[39m=\u001b[39m load_labels(labels_file1)\n\u001b[1;32m     <a href='vscode-notebook-cell:/Users/rowanconverse/Library/CloudStorage/OneDrive-UniversityofNewMexico/Dissertation/1_Chapter/consensus/scripts/label-consensus-analysis/expert_crowd_agreement.ipynb#X13sZmlsZQ%3D%3D?line=50'>51</a>\u001b[0m labels2 \u001b[39m=\u001b[39m load_labels(labels_file2)\n\u001b[0;32m---> <a href='vscode-notebook-cell:/Users/rowanconverse/Library/CloudStorage/OneDrive-UniversityofNewMexico/Dissertation/1_Chapter/consensus/scripts/label-consensus-analysis/expert_crowd_agreement.ipynb#X13sZmlsZQ%3D%3D?line=51'>52</a>\u001b[0m conf_matrix, classes \u001b[39m=\u001b[39m create_confusion_matrix(labels1, labels2)\n\u001b[1;32m     <a href='vscode-notebook-cell:/Users/rowanconverse/Library/CloudStorage/OneDrive-UniversityofNewMexico/Dissertation/1_Chapter/consensus/scripts/label-consensus-analysis/expert_crowd_agreement.ipynb#X13sZmlsZQ%3D%3D?line=52'>53</a>\u001b[0m \u001b[39mprint\u001b[39m(\u001b[39m'\u001b[39m\u001b[39mConfusion Matrix:\u001b[39m\u001b[39m'\u001b[39m)\n\u001b[1;32m     <a href='vscode-notebook-cell:/Users/rowanconverse/Library/CloudStorage/OneDrive-UniversityofNewMexico/Dissertation/1_Chapter/consensus/scripts/label-consensus-analysis/expert_crowd_agreement.ipynb#X13sZmlsZQ%3D%3D?line=53'>54</a>\u001b[0m \u001b[39mprint\u001b[39m(conf_matrix)\n",
      "\u001b[1;32m/Users/rowanconverse/Library/CloudStorage/OneDrive-UniversityofNewMexico/Dissertation/1_Chapter/consensus/scripts/label-consensus-analysis/expert_crowd_agreement.ipynb Cell 8\u001b[0m in \u001b[0;36mcreate_confusion_matrix\u001b[0;34m(labels1, labels2)\u001b[0m\n\u001b[1;32m     <a href='vscode-notebook-cell:/Users/rowanconverse/Library/CloudStorage/OneDrive-UniversityofNewMexico/Dissertation/1_Chapter/consensus/scripts/label-consensus-analysis/expert_crowd_agreement.ipynb#X13sZmlsZQ%3D%3D?line=41'>42</a>\u001b[0m pred_class \u001b[39m=\u001b[39m box2[\u001b[39m'\u001b[39m\u001b[39mclass_id\u001b[39m\u001b[39m'\u001b[39m]\n\u001b[1;32m     <a href='vscode-notebook-cell:/Users/rowanconverse/Library/CloudStorage/OneDrive-UniversityofNewMexico/Dissertation/1_Chapter/consensus/scripts/label-consensus-analysis/expert_crowd_agreement.ipynb#X13sZmlsZQ%3D%3D?line=42'>43</a>\u001b[0m \u001b[39mif\u001b[39;00m true_class \u001b[39m==\u001b[39m pred_class:\n\u001b[0;32m---> <a href='vscode-notebook-cell:/Users/rowanconverse/Library/CloudStorage/OneDrive-UniversityofNewMexico/Dissertation/1_Chapter/consensus/scripts/label-consensus-analysis/expert_crowd_agreement.ipynb#X13sZmlsZQ%3D%3D?line=43'>44</a>\u001b[0m     matrix[class_list\u001b[39m.\u001b[39;49mindex(true_class), class_list\u001b[39m.\u001b[39mindex(pred_class)] \u001b[39m+\u001b[39m\u001b[39m=\u001b[39m \u001b[39m1\u001b[39m\n\u001b[1;32m     <a href='vscode-notebook-cell:/Users/rowanconverse/Library/CloudStorage/OneDrive-UniversityofNewMexico/Dissertation/1_Chapter/consensus/scripts/label-consensus-analysis/expert_crowd_agreement.ipynb#X13sZmlsZQ%3D%3D?line=44'>45</a>\u001b[0m \u001b[39melse\u001b[39;00m:\n\u001b[1;32m     <a href='vscode-notebook-cell:/Users/rowanconverse/Library/CloudStorage/OneDrive-UniversityofNewMexico/Dissertation/1_Chapter/consensus/scripts/label-consensus-analysis/expert_crowd_agreement.ipynb#X13sZmlsZQ%3D%3D?line=45'>46</a>\u001b[0m     matrix[class_list\u001b[39m.\u001b[39mindex(true_class), \u001b[39m-\u001b[39m\u001b[39m1\u001b[39m] \u001b[39m+\u001b[39m\u001b[39m=\u001b[39m \u001b[39m1\u001b[39m\n",
      "\u001b[0;31mValueError\u001b[0m: '2' is not in list"
     ]
    }
   ],
   "source": [
    "def load_labels(file_path):\n",
    "    with open(file_path, 'r') as f:\n",
    "        reader = csv.reader(f)\n",
    "        next(reader) # skip header row\n",
    "        labels = {}\n",
    "        for row in reader:\n",
    "            label_id = row[0]\n",
    "            filename = row[1].split('.')[0]\n",
    "            bbox = list(map(float, row[2][1:-1].split(',')))\n",
    "            class_id = row[3]\n",
    "            if filename not in labels:\n",
    "                labels[filename] = []\n",
    "            labels[filename].append({'label_id': label_id, 'bbox': bbox, 'class_id': class_id})\n",
    "        return labels\n",
    "\n",
    "def iou(box1, box2):\n",
    "    # box format: [x_min, y_min, width, height]\n",
    "    x_left = max(box1[0], box2[0])\n",
    "    y_top = max(box1[1], box2[1])\n",
    "    x_right = min(box1[0]+box1[2], box2[0]+box2[2])\n",
    "    y_bottom = min(box1[1]+box1[3], box2[1]+box2[3])\n",
    "    if x_right < x_left or y_bottom < y_top:\n",
    "        return 0.0\n",
    "    intersection_area = (x_right - x_left) * (y_bottom - y_top)\n",
    "    box1_area = box1[2] * box1[3]\n",
    "    box2_area = box2[2] * box2[3]\n",
    "    iou = intersection_area / (box1_area + box2_area - intersection_area)\n",
    "    return iou\n",
    "\n",
    "def create_confusion_matrix(labels1, labels2):\n",
    "    class_list = sorted(list(set([labels1[filename][0]['class_id'] for filename in labels1])))\n",
    "    matrix = np.zeros((len(class_list), len(class_list)+1))\n",
    "    for filename in labels1:\n",
    "        if filename in labels2:\n",
    "            boxes1 = labels1[filename]\n",
    "            boxes2 = labels2[filename]\n",
    "            for box1 in boxes1:\n",
    "                for box2 in boxes2:\n",
    "                    iou_score = iou(box1['bbox'], box2['bbox'])\n",
    "                    if iou_score >= 0.5:\n",
    "                        true_class = box1['class_id']\n",
    "                        pred_class = box2['class_id']\n",
    "                        if true_class == pred_class:\n",
    "                            matrix[class_list.index(true_class), class_list.index(pred_class)] += 1\n",
    "                        else:\n",
    "                            matrix[class_list.index(true_class), -1] += 1\n",
    "                            matrix[class_list.index(pred_class), -1] += 1\n",
    "    return matrix, class_list\n",
    "\n",
    "labels1 = load_labels(labels_file1)\n",
    "labels2 = load_labels(labels_file2)\n",
    "conf_matrix, classes = create_confusion_matrix(labels1, labels2)\n",
    "print('Confusion Matrix:')\n",
    "print(conf_matrix)\n",
    "print('Class List:')\n",
    "print(classes)"
   ]
  },
  {
   "cell_type": "code",
   "execution_count": 27,
   "metadata": {},
   "outputs": [
    {
     "data": {
      "image/png": "[encoded data removed]",
      "text/plain": [
       "<Figure size 720x720 with 2 Axes>"
      ]
     },
     "metadata": {
      "needs_background": "light"
     },
     "output_type": "display_data"
    }
   ],
   "source": [
    "# Visualize the confusion matrix\n",
    "fig, ax = plt.subplots(figsize=(10, 10))\n",
    "sns.heatmap(conf_matrix, annot=True, fmt='g', cmap='Blues', ax=ax)\n",
    "\n",
    "# Add labels and title\n",
    "ax.set_xlabel('Labels2')\n",
    "ax.set_ylabel('Labels1')\n",
    "ax.set_title('Confusion Matrix')\n",
    "\n",
    "# Add class names as tick labels\n",
    "ax.set_xticklabels(list(class_map2.values()))\n",
    "ax.set_yticklabels(list(class_map1.values()))\n",
    "\n",
    "plt.show()"
   ]
  }
 ],
 "metadata": {
  "kernelspec": {
   "display_name": "dronesforducks",
   "language": "python",
   "name": "python3"
  },
  "language_info": {
   "codemirror_mode": {
    "name": "ipython",
    "version": 3
   },
   "file_extension": ".py",
   "mimetype": "text/x-python",
   "name": "python",
   "nbconvert_exporter": "python",
   "pygments_lexer": "ipython3",
   "version": "3.8.13"
  },
  "orig_nbformat": 4
 },
 "nbformat": 4,
 "nbformat_minor": 2
}
